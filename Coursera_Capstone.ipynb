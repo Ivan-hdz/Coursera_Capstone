{
 "cells": [
  {
   "cell_type": "markdown",
   "metadata": {},
   "source": [
    "# Applied Data Science Capstone\n",
    "This notebook will be mainly used for the capstone project. The project is the\n",
    "following\n",
    "## Moving to a similar neighborhood in Mexico City\n",
    "Many people in Mexico City are moving to new houses every day, which is great  but a lot of people have problems \n",
    "getting familiarized with the new neighborhood because they miss their old neighborhood and the venues \n",
    "they used to go to . For example: they miss their favorite tacos or their favorite coffee shop.  \n",
    "So, we can prevent people from spending many hours looking for a new neighborhood with the same kind of venues that \n",
    "they have nearby their old house. Instead, we can recommend neighborhoods with almost the same kind of venues as the \n",
    "old neighborhood.\n",
    "\n",
    "### Import the libraries"
   ]
  },
  {
   "cell_type": "code",
   "execution_count": 2,
   "metadata": {
    "pycharm": {
     "is_executing": false,
     "name": "#%%\n"
    }
   },
   "outputs": [
    {
     "name": "stdout",
     "output_type": "stream",
     "text": [
      "Installing dependencies\n",
      "Collecting package metadata (current_repodata.json): - \b\b\\ \b\b| \b\b/ \b\b- \b\b\\ \b\b| \b\b/ \b\b- \b\bdone\r\n",
      "Solving environment: | \b\b/ \b\b- \b\b\\ \b\b| \b\b/ \b\b- \b\b\\ \b\b| \b\b/ \b\b- \b\b\\ \b\b| \b\b/ \b\b- \b\b\\ \b\b| \b\b/ \b\b- \b\b\\ \b\b| \b\b/ \b\b- \b\b\\ \b\b| \b\b/ \b\b- \b\b\\ \b\bdone\r\n",
      "\r\n",
      "## Package Plan ##\r\n",
      "\r\n",
      "  environment location: /home/ivan/anaconda3/envs/Coursera_Capstone\r\n",
      "\r\n",
      "  added / updated specs:\r\n",
      "    - numpy\r\n",
      "\r\n",
      "\r\n",
      "The following packages will be SUPERSEDED by a higher-priority channel:\r\n",
      "\r\n",
      "  ca-certificates    conda-forge::ca-certificates-2020.4.5~ --> pkgs/main::ca-certificates-2020.1.1-0\r\n",
      "  certifi            conda-forge::certifi-2020.4.5.1-py37h~ --> pkgs/main::certifi-2020.4.5.1-py37_0\r\n",
      "  openssl            conda-forge::openssl-1.1.1f-h516909a_0 --> pkgs/main::openssl-1.1.1f-h7b6447c_0\r\n",
      "\r\n",
      "\r\n",
      "Preparing transaction: / \b\bdone\r\n",
      "Verifying transaction: \\ \b\b| \b\bdone\r\n",
      "Executing transaction: - \b\bdone\r\n",
      "Collecting package metadata (current_repodata.json): - \b\b\\ \b\b| \b\b/ \b\b- \b\b\\ \b\b| \b\b/ \b\bdone\r\n",
      "Solving environment: \\ \b\b| \b\b/ \b\b- \b\b\\ \b\b| \b\b/ \b\b- \b\b\\ \b\b| \b\b/ \b\b- \b\b\\ \b\b| \b\b/ \b\b- \b\b\\ \b\b| \b\b/ \b\b- \b\b\\ \b\b| \b\b/ \b\b- \b\b\\ \b\b| \b\b/ \b\b- \b\bdone\r\n",
      "\r\n",
      "# All requested packages already installed.\r\n",
      "\r\n",
      "Collecting package metadata (current_repodata.json): - \b\b\\ \b\b| \b\b/ \b\b- \b\b\\ \b\b| \b\b/ \b\bdone\r\n",
      "Solving environment: \\ \b\b| \b\b/ \b\b- \b\b\\ \b\b| \b\b/ \b\b- \b\b\\ \b\b| \b\b/ \b\b- \b\b\\ \b\b| \b\b/ \b\b- \b\b\\ \b\b| \b\b/ \b\b- \b\b\\ \b\b| \b\b/ \b\b- \b\b\\ \b\b| \b\b/ \b\b- \b\b\\ \b\b| \b\bdone\r\n",
      "\r\n",
      "# All requested packages already installed.\r\n",
      "\r\n",
      "Collecting package metadata (current_repodata.json): - \b\b\\ \b\b| \b\b/ \b\b- \b\b\\ \b\b| \b\b/ \b\b- \b\b\\ \b\b| \b\b/ \b\b- \b\b\\ \b\b| \b\b/ \b\b- \b\b\\ \b\b| \b\b/ \b\b- \b\b\\ \b\b| \b\bdone\r\n",
      "Solving environment: - \b\b\\ \b\b| \b\b/ \b\b- \b\b\\ \b\b| \b\b/ \b\b- \b\b\\ \b\b| \b\b/ \b\b- \b\b\\ \b\b| \b\b/ \b\b- \b\b\\ \b\b| \b\b/ \b\b- \b\b\\ \b\b| \b\b/ \b\b- \b\b\\ \b\b| \b\b/ \b\b- \b\b\\ \b\b| \b\bdone\r\n",
      "\r\n",
      "## Package Plan ##\r\n",
      "\r\n",
      "  environment location: /home/ivan/anaconda3/envs/Coursera_Capstone\r\n",
      "\r\n",
      "  added / updated specs:\r\n",
      "    - geopy\r\n",
      "\r\n",
      "\r\n",
      "The following packages will be UPDATED:\r\n",
      "\r\n",
      "  ca-certificates     pkgs/main::ca-certificates-2020.1.1-0 --> conda-forge::ca-certificates-2020.4.5.1-hecc5488_0\r\n",
      "\r\n",
      "The following packages will be SUPERSEDED by a higher-priority channel:\r\n",
      "\r\n",
      "  certifi              pkgs/main::certifi-2020.4.5.1-py37_0 --> conda-forge::certifi-2020.4.5.1-py37hc8dfbb8_0\r\n",
      "  openssl              pkgs/main::openssl-1.1.1f-h7b6447c_0 --> conda-forge::openssl-1.1.1f-h516909a_0\r\n",
      "\r\n",
      "\r\n",
      "Preparing transaction: - \b\bdone\r\n",
      "Verifying transaction: | \b\bdone\r\n",
      "Executing transaction: - \b\bdone\r\n",
      "Collecting package metadata (current_repodata.json): - \b\b\\ \b\b| \b\b/ \b\b- \b\b\\ \b\b| \b\b/ \b\b- \b\b\\ \b\b| \b\b/ \b\b- \b\b\\ \b\b| \b\b/ \b\b- \b\b\\ \b\b| \b\b/ \b\b- \b\b\\ \b\b| \b\b/ \b\b- \b\bdone\r\n",
      "Solving environment: | \b\b/ \b\b- \b\b\\ \b\b| \b\b/ \b\b- \b\b\\ \b\b| \b\b/ \b\b- \b\b\\ \b\b| \b\b/ \b\b- \b\b\\ \b\b| \b\b/ \b\b- \b\b\\ \b\b| \b\b/ \b\b- \b\b\\ \b\b| \b\b/ \b\b- \b\b\\ \b\b| \b\b/ \b\b- \b\b\\ \b\b| \b\b/ \b\b- \b\b\\ \b\b| \b\b/ \b\b- \b\b\\ \b\b| \b\bdone\r\n",
      "\r\n",
      "# All requested packages already installed.\r\n",
      "\r\n",
      "Collecting package metadata (current_repodata.json): - \b\b\\ \b\b| \b\b/ \b\b- \b\b\\ \b\b| \b\b/ \b\b- \b\b\\ \b\b| \b\b/ \b\b- \b\b\\ \b\b| \b\b/ \b\b- \b\b\\ \b\b| \b\b/ \b\b- \b\b\\ \b\b| \b\b/ \b\b- \b\bdone\r\n",
      "Solving environment: | \b\b/ \b\b- \b\b\\ \b\b| \b\b/ \b\b- \b\b\\ \b\b| \b\b/ \b\b- \b\b\\ \b\b| \b\b/ \b\b- \b\b\\ \b\b| \b\b/ \b\b- \b\b\\ \b\b| \b\b/ \b\b- \b\b\\ \b\b| \b\b/ \b\b- \b\b\\ \b\b| \b\b/ \b\b- \b\b\\ \b\b| \b\b/ \b\b- \b\b\\ \b\b| \b\b/ \b\b- \b\b\\ \b\b| \b\bdone\r\n",
      "\r\n",
      "# All requested packages already installed.\r\n",
      "\r\n",
      "Dependencies installed\n"
     ]
    }
   ],
   "source": [
    "print('Installing dependencies')\n",
    "import sys\n",
    "!conda install --yes --prefix {sys.prefix} numpy\n",
    "!conda install --yes --prefix {sys.prefix} pandas\n",
    "!conda install --yes --prefix {sys.prefix} requests\n",
    "!conda install --yes --prefix {sys.prefix} -c conda-forge geopy\n",
    "!conda install --yes --prefix {sys.prefix} -c conda-forge folium=0.5.0\n",
    "!conda install --yes --prefix {sys.prefix} -c conda-forge scikit-learn\n",
    "\n",
    "print('Dependencies installed')"
   ]
  },
  {
   "cell_type": "code",
   "execution_count": 11,
   "metadata": {
    "pycharm": {
     "is_executing": false,
     "name": "#%%\n"
    }
   },
   "outputs": [
    {
     "name": "stdout",
     "output_type": "stream",
     "text": [
      "Libraries imported\n"
     ]
    }
   ],
   "source": [
    "# library to handle requests\n",
    "import requests \n",
    "# library for data analsysis\n",
    "import pandas as pd \n",
    "# library to handle data in a vectorized manner\n",
    "import numpy as np \n",
    "# library for random number generation\n",
    "import random \n",
    "\n",
    "# module to convert an address into latitude and longitude values\n",
    "from geopy.geocoders import Nominatim \n",
    "\n",
    "# libraries for displaying images\n",
    "from IPython.display import Image \n",
    "from IPython.core.display import HTML \n",
    "    \n",
    "# tranforming json file into a pandas dataframe library\n",
    "from pandas.io.json import json_normalize\n",
    "\n",
    "# matplotlib\n",
    "import matplotlib.pyplot as plt\n",
    "\n",
    "# plotting library\n",
    "import folium \n",
    "\n",
    "print('Libraries imported')"
   ]
  },
  {
   "cell_type": "code",
   "execution_count": 9,
   "metadata": {
    "pycharm": {
     "is_executing": false,
     "name": "#%%\n"
    }
   },
   "outputs": [
    {
     "data": {
      "text/html": [
       "<div>\n",
       "<style scoped>\n",
       "    .dataframe tbody tr th:only-of-type {\n",
       "        vertical-align: middle;\n",
       "    }\n",
       "\n",
       "    .dataframe tbody tr th {\n",
       "        vertical-align: top;\n",
       "    }\n",
       "\n",
       "    .dataframe thead th {\n",
       "        text-align: right;\n",
       "    }\n",
       "</style>\n",
       "<table border=\"1\" class=\"dataframe\">\n",
       "  <thead>\n",
       "    <tr style=\"text-align: right;\">\n",
       "      <th></th>\n",
       "      <th>COLONIA</th>\n",
       "      <th>ENTIDAD</th>\n",
       "      <th>Geo Point</th>\n",
       "      <th>Geo Shape</th>\n",
       "      <th>CVE_ALC</th>\n",
       "      <th>ALCALDIA</th>\n",
       "      <th>CVE_COL</th>\n",
       "      <th>SECC_COM</th>\n",
       "      <th>SECC_PAR</th>\n",
       "    </tr>\n",
       "  </thead>\n",
       "  <tbody>\n",
       "    <tr>\n",
       "      <th>0</th>\n",
       "      <td>IRRIGACION</td>\n",
       "      <td>9.0</td>\n",
       "      <td>19.4429549298,-99.2099357048</td>\n",
       "      <td>{\"type\": \"Polygon\", \"coordinates\": [[[-99.2115...</td>\n",
       "      <td>16</td>\n",
       "      <td>MIGUEL HIDALGO</td>\n",
       "      <td>16-035</td>\n",
       "      <td>5079, 5080, 5083, 5102</td>\n",
       "      <td>5068, 5082</td>\n",
       "    </tr>\n",
       "    <tr>\n",
       "      <th>1</th>\n",
       "      <td>MARINA NACIONAL (U HAB)</td>\n",
       "      <td>9.0</td>\n",
       "      <td>19.4466319056,-99.1795110575</td>\n",
       "      <td>{\"type\": \"Polygon\", \"coordinates\": [[[-99.1797...</td>\n",
       "      <td>16</td>\n",
       "      <td>MIGUEL HIDALGO</td>\n",
       "      <td>16-049</td>\n",
       "      <td>5137, 5182</td>\n",
       "      <td>NaN</td>\n",
       "    </tr>\n",
       "    <tr>\n",
       "      <th>2</th>\n",
       "      <td>PEDREGAL DE STO DOMINGO VI</td>\n",
       "      <td>9.0</td>\n",
       "      <td>19.3234027183,-99.1654676133</td>\n",
       "      <td>{\"type\": \"Polygon\", \"coordinates\": [[[-99.1622...</td>\n",
       "      <td>3</td>\n",
       "      <td>COYOACAN</td>\n",
       "      <td>03-144</td>\n",
       "      <td>381, 394, 494, 416, 417, 439</td>\n",
       "      <td>NaN</td>\n",
       "    </tr>\n",
       "    <tr>\n",
       "      <th>3</th>\n",
       "      <td>VILLA PANAMERICANA 7MA. SECCIN (U HAB)</td>\n",
       "      <td>9.0</td>\n",
       "      <td>19.304604269,-99.1677617231</td>\n",
       "      <td>{\"type\": \"Polygon\", \"coordinates\": [[[-99.1676...</td>\n",
       "      <td>3</td>\n",
       "      <td>COYOACAN</td>\n",
       "      <td>03-121</td>\n",
       "      <td>NaN</td>\n",
       "      <td>474, 475</td>\n",
       "    </tr>\n",
       "    <tr>\n",
       "      <th>4</th>\n",
       "      <td>VILLA PANAMERICANA 6TA. SECCIN (U HAB)</td>\n",
       "      <td>9.0</td>\n",
       "      <td>19.3112238873,-99.1696478642</td>\n",
       "      <td>{\"type\": \"Polygon\", \"coordinates\": [[[-99.1702...</td>\n",
       "      <td>3</td>\n",
       "      <td>COYOACAN</td>\n",
       "      <td>03-120</td>\n",
       "      <td>NaN</td>\n",
       "      <td>458</td>\n",
       "    </tr>\n",
       "  </tbody>\n",
       "</table>\n",
       "</div>"
      ],
      "text/plain": [
       "                                  COLONIA  ENTIDAD  \\\n",
       "0                              IRRIGACION      9.0   \n",
       "1                 MARINA NACIONAL (U HAB)      9.0   \n",
       "2              PEDREGAL DE STO DOMINGO VI      9.0   \n",
       "3  VILLA PANAMERICANA 7MA. SECCIN (U HAB)      9.0   \n",
       "4  VILLA PANAMERICANA 6TA. SECCIN (U HAB)      9.0   \n",
       "\n",
       "                      Geo Point  \\\n",
       "0  19.4429549298,-99.2099357048   \n",
       "1  19.4466319056,-99.1795110575   \n",
       "2  19.3234027183,-99.1654676133   \n",
       "3   19.304604269,-99.1677617231   \n",
       "4  19.3112238873,-99.1696478642   \n",
       "\n",
       "                                           Geo Shape  CVE_ALC        ALCALDIA  \\\n",
       "0  {\"type\": \"Polygon\", \"coordinates\": [[[-99.2115...       16  MIGUEL HIDALGO   \n",
       "1  {\"type\": \"Polygon\", \"coordinates\": [[[-99.1797...       16  MIGUEL HIDALGO   \n",
       "2  {\"type\": \"Polygon\", \"coordinates\": [[[-99.1622...        3        COYOACAN   \n",
       "3  {\"type\": \"Polygon\", \"coordinates\": [[[-99.1676...        3        COYOACAN   \n",
       "4  {\"type\": \"Polygon\", \"coordinates\": [[[-99.1702...        3        COYOACAN   \n",
       "\n",
       "  CVE_COL                      SECC_COM    SECC_PAR  \n",
       "0  16-035        5079, 5080, 5083, 5102  5068, 5082  \n",
       "1  16-049                    5137, 5182         NaN  \n",
       "2  03-144  381, 394, 494, 416, 417, 439         NaN  \n",
       "3  03-121                           NaN    474, 475  \n",
       "4  03-120                           NaN         458  "
      ]
     },
     "execution_count": 9,
     "metadata": {},
     "output_type": "execute_result"
    }
   ],
   "source": [
    "df = pd.read_csv('data/coloniascdmx.csv')\n",
    "df.head()"
   ]
  },
  {
   "cell_type": "code",
   "execution_count": 10,
   "metadata": {
    "pycharm": {
     "name": "#%%\n"
    }
   },
   "outputs": [
    {
     "data": {
      "text/plain": [
       "COLONIA       object\n",
       "ENTIDAD      float64\n",
       "Geo Point     object\n",
       "Geo Shape     object\n",
       "CVE_ALC        int64\n",
       "ALCALDIA      object\n",
       "CVE_COL       object\n",
       "SECC_COM      object\n",
       "SECC_PAR      object\n",
       "dtype: object"
      ]
     },
     "execution_count": 10,
     "metadata": {},
     "output_type": "execute_result"
    }
   ],
   "source": [
    "df.dtypes\n"
   ]
  },
  {
   "cell_type": "code",
   "execution_count": 26,
   "metadata": {},
   "outputs": [
    {
     "data": {
      "text/plain": [
       "IZTAPALAPA                293\n",
       "ALVARO OBREGON            249\n",
       "GUSTAVO A. MADERO         232\n",
       "TLALPAN                   178\n",
       "COYOACAN                  153\n",
       "AZCAPOTZALCO              111\n",
       "MIGUEL HIDALGO             88\n",
       "VENUSTIANO CARRANZA        80\n",
       "XOCHIMILCO                 80\n",
       "CUAUHTEMOC                 64\n",
       "BENITO JUAREZ              64\n",
       "TLAHUAC                    58\n",
       "IZTACALCO                  55\n",
       "LA MAGDALENA CONTRERAS     52\n",
       "CUAJIMALPA DE MORELOS      43\n",
       "MILPA ALTA                 12\n",
       "Name: ALCALDIA, dtype: int64"
      ]
     },
     "execution_count": 26,
     "metadata": {},
     "output_type": "execute_result"
    }
   ],
   "source": [
    "df['ALCALDIA'].value_counts()"
   ]
  },
  {
   "cell_type": "code",
   "execution_count": 29,
   "metadata": {},
   "outputs": [
    {
     "data": {
      "image/png": "[encoded data removed]",
      "text/plain": [
       "<Figure size 432x288 with 1 Axes>"
      ]
     },
     "metadata": {
      "needs_background": "light"
     },
     "output_type": "display_data"
    }
   ],
   "source": [
    "plt.bar(df['ALCALDIA'].value_counts().index, df['ALCALDIA'].value_counts().values)\n",
    "plt.xticks(rotation=90)\n",
    "plt.show()"
   ]
  },
  {
   "cell_type": "code",
   "execution_count": null,
   "metadata": {},
   "outputs": [],
   "source": []
  }
 ],
 "metadata": {
  "kernelspec": {
   "display_name": "Python 3",
   "language": "python",
   "name": "python3"
  },
  "language_info": {
   "codemirror_mode": {
    "name": "ipython",
    "version": 3
   },
   "file_extension": ".py",
   "mimetype": "text/x-python",
   "name": "python",
   "nbconvert_exporter": "python",
   "pygments_lexer": "ipython3",
   "version": "3.7.7"
  },
  "pycharm": {
   "stem_cell": {
    "cell_type": "raw",
    "metadata": {
     "collapsed": false
    },
    "source": []
   }
  }
 },
 "nbformat": 4,
 "nbformat_minor": 1
}
