{
 "cells": [
  {
   "cell_type": "markdown",
   "source": [
    "# Clustering with Foursquare API"
   ],
   "metadata": {
    "collapsed": false,
    "pycharm": {
     "name": "#%% md\n"
    }
   }
  },
  {
   "cell_type": "code",
   "execution_count": 2,
   "metadata": {
    "collapsed": true,
    "pycharm": {
     "is_executing": false
    }
   },
   "outputs": [
    {
     "name": "stdout",
     "text": [
      "Installing dependencies\n",
      "Collecting package metadata (current_repodata.json): - \b\b\\ \b\b| \b\b/ \b\b- \b\b\\ \b\b| \b\b/ \b\b- \b\bdone\r\n",
      "Solving environment: | \b\b/ \b\b- \b\b\\ \b\b| \b\b/ \b\b- \b\b\\ \b\b| \b\b/ \b\b- \b\b\\ \b\b| \b\b/ \b\b- \b\b\\ \b\b| \b\b/ \b\b- \b\b\\ \b\b| \b\b/ \b\b- \b\b\\ \b\b| \b\b/ \b\b- \b\b\\ \b\b| \b\b/ \b\b- \b\b\\ \b\b| \b\b/ \b\b- \b\b\\ \b\b| \b\b/ \b\b- \b\bdone\r\n",
      "\r\n",
      "## Package Plan ##\r\n",
      "\r\n",
      "  environment location: /home/ivan/anaconda3/envs/Coursera_Capstone\r\n",
      "\r\n",
      "  added / updated specs:\r\n",
      "    - numpy\r\n",
      "\r\n",
      "\r\n",
      "The following packages will be UPDATED:\r\n",
      "\r\n",
      "  ca-certificates    conda-forge::ca-certificates-2019.11.~ --> pkgs/main::ca-certificates-2020.1.1-0\r\n",
      "\r\n",
      "The following packages will be SUPERSEDED by a higher-priority channel:\r\n",
      "\r\n",
      "  certifi            conda-forge::certifi-2019.11.28-py37h~ --> pkgs/main::certifi-2019.11.28-py37_1\r\n",
      "  openssl            conda-forge::openssl-1.1.1f-h516909a_0 --> pkgs/main::openssl-1.1.1f-h7b6447c_0\r\n",
      "\r\n",
      "\r\n",
      "Preparing transaction: | \b\bdone\r\n",
      "Verifying transaction: - \b\b\\ \b\bdone\r\n",
      "Executing transaction: / \b\bdone\r\n",
      "Collecting package metadata (current_repodata.json): - \b\b\\ \b\b| \b\b/ \b\b- \b\b\\ \b\b| \b\b/ \b\bdone\r\n",
      "Solving environment: \\ \b\b| \b\b/ \b\b- \b\b\\ \b\b| \b\b/ \b\b- \b\b\\ \b\b| \b\b/ \b\b- \b\b\\ \b\b| \b\b/ \b\b- \b\b\\ \b\b| \b\b/ \b\b- \b\b\\ \b\b| \b\b/ \b\b- \b\b\\ \b\b| \b\b/ \b\b- \b\b\\ \b\b| \b\b/ \b\b- \b\b\\ \b\b| \b\b/ \b\b- \b\b\\ \b\b| \b\bdone\r\n",
      "\r\n",
      "# All requested packages already installed.\r\n",
      "\r\n",
      "Collecting package metadata (current_repodata.json): - \b\b\\ \b\b| \b\b/ \b\b- \b\b\\ \b\b| \b\b/ \b\bdone\r\n",
      "Solving environment: \\ \b\b| \b\b/ \b\b- \b\b\\ \b\b| \b\b/ \b\b- \b\b\\ \b\b| \b\b/ \b\b- \b\b\\ \b\b| \b\b/ \b\b- \b\b\\ \b\b| \b\b/ \b\b- \b\b\\ \b\b| \b\b/ \b\b- \b\b\\ \b\b| \b\b/ \b\b- \b\b\\ \b\b| \b\b/ \b\b- \b\b\\ \b\b| \b\b/ \b\b- \b\b\\ \b\b| \b\bdone\r\n",
      "\r\n",
      "# All requested packages already installed.\r\n",
      "\r\n",
      "Collecting package metadata (current_repodata.json): - \b\b\\ \b\b| \b\b/ \b\b- \b\b\\ \b\b| \b\b/ \b\b- \b\b\\ \b\b| \b\b/ \b\b- \b\b\\ \b\b| \b\b/ \b\b- \b\b\\ \b\b| \b\b/ \b\b- \b\b\\ \b\bdone\r\n",
      "Solving environment: / \b\b- \b\b\\ \b\b| \b\b/ \b\b- \b\b\\ \b\b| \b\b/ \b\b- \b\b\\ \b\b| \b\b/ \b\b- \b\b\\ \b\b| \b\b/ \b\b- \b\b\\ \b\b| \b\b/ \b\b- \b\b\\ \b\b| \b\b/ \b\b- \b\b\\ \b\b| \b\b/ \b\b- \b\b\\ \b\b| \b\b/ \b\b- \b\b\\ \b\b| \b\b/ \b\b- \b\b\\ \b\b| \b\b/ \b\b- \b\bdone\r\n",
      "\r\n",
      "## Package Plan ##\r\n",
      "\r\n",
      "  environment location: /home/ivan/anaconda3/envs/Coursera_Capstone\r\n",
      "\r\n",
      "  added / updated specs:\r\n",
      "    - geopy\r\n",
      "\r\n",
      "\r\n",
      "The following packages will be SUPERSEDED by a higher-priority channel:\r\n",
      "\r\n",
      "  ca-certificates     pkgs/main::ca-certificates-2020.1.1-0 --> conda-forge::ca-certificates-2019.11.28-hecc5488_0\r\n",
      "  certifi              pkgs/main::certifi-2019.11.28-py37_1 --> conda-forge::certifi-2019.11.28-py37hc8dfbb8_1\r\n",
      "  openssl              pkgs/main::openssl-1.1.1f-h7b6447c_0 --> conda-forge::openssl-1.1.1f-h516909a_0\r\n",
      "\r\n",
      "\r\n",
      "Preparing transaction: | \b\bdone\r\n",
      "Verifying transaction: - \b\bdone\r\n",
      "Executing transaction: | \b\bdone\r\n",
      "Collecting package metadata (current_repodata.json): - \b\b\\ \b\b| \b\b/ \b\b- \b\b\\ \b\b| \b\b/ \b\b- \b\b\\ \b\b| \b\b/ \b\b- \b\b\\ \b\b| \b\b/ \b\b- \b\b\\ \b\b| \b\b/ \b\b- \b\b\\ \b\bdone\r\n",
      "Solving environment: / \b\b- \b\b\\ \b\b| \b\b/ \b\b- \b\b\\ \b\b| \b\b/ \b\b- \b\b\\ \b\b| \b\b/ \b\b- \b\b\\ \b\b| \b\b/ \b\b- \b\b\\ \b\b| \b\b/ \b\b- \b\b\\ \b\b| \b\b/ \b\b- \b\b\\ \b\b| \b\b/ \b\b- \b\b\\ \b\b| \b\b/ \b\b- \b\b\\ \b\b| \b\b/ \b\b- \b\b\\ \b\b| \b\b/ \b\b- \b\b\\ \b\b| \b\b/ \b\b- \b\b\\ \b\b| \b\b/ \b\b- \b\b\\ \b\b| \b\bdone\r\n",
      "\r\n",
      "# All requested packages already installed.\r\n",
      "\r\n"
     ],
     "output_type": "stream"
    }
   ],
   "source": [
    "print('Installing dependencies')\n",
    "import sys\n",
    "!conda install --yes --prefix {sys.prefix} numpy\n",
    "!conda install --yes --prefix {sys.prefix} pandas\n",
    "!conda install --yes --prefix {sys.prefix} requests\n",
    "!conda install --yes --prefix {sys.prefix} -c conda-forge geopy\n",
    "!conda install --yes --prefix {sys.prefix} -c conda-forge folium=0.5.0"
   ]
  },
  {
   "cell_type": "code",
   "execution_count": 3,
   "outputs": [
    {
     "name": "stdout",
     "text": [
      "Libraries imported\n"
     ],
     "output_type": "stream"
    }
   ],
   "source": [
    "# library to handle requests\n",
    "import requests \n",
    "# library for data analsysis\n",
    "import pandas as pd \n",
    "# library to handle data in a vectorized manner\n",
    "import numpy as np \n",
    "# library for random number generation\n",
    "import random \n",
    "\n",
    "# module to convert an address into latitude and longitude values\n",
    "from geopy.geocoders import Nominatim \n",
    "\n",
    "# libraries for displaying images\n",
    "from IPython.display import Image \n",
    "from IPython.core.display import HTML \n",
    "    \n",
    "# tranforming json file into a pandas dataframe library\n",
    "from pandas.io.json import json_normalize\n",
    "# plotting library\n",
    "import folium \n",
    "\n",
    "print('Libraries imported')\n"
   ],
   "metadata": {
    "collapsed": false,
    "pycharm": {
     "name": "#%%\n",
     "is_executing": false
    }
   }
  },
  {
   "cell_type": "code",
   "execution_count": 93,
   "outputs": [
    {
     "name": "stdout",
     "text": [
      "Your credentails:\n",
      "CLIENT_ID: WSBDS3PHA2ZA2QRF1K2PFSPE1G2DOMXDFX5LTEJ2NCC5OUG1\n",
      "CLIENT_SECRET:LOHFOAR0DHZK5WYJOU1N0FRMLVYOUKNYK3KBRCTT33YSEQBH\n"
     ],
     "output_type": "stream"
    }
   ],
   "source": [
    "CLIENT_ID = 'WSBDS3PHA2ZA2QRF1K2PFSPE1G2DOMXDFX5LTEJ2NCC5OUG1' # your Foursquare ID\n",
    "CLIENT_SECRET = 'LOHFOAR0DHZK5WYJOU1N0FRMLVYOUKNYK3KBRCTT33YSEQBH' # your Foursquare Secret\n",
    "VERSION = '20200403'\n",
    "LIMIT = 1000\n",
    "radius = 5000\n",
    "print('Your credentails:')\n",
    "print('CLIENT_ID: ' + CLIENT_ID)\n",
    "print('CLIENT_SECRET:' + CLIENT_SECRET)\n"
   ],
   "metadata": {
    "collapsed": false,
    "pycharm": {
     "name": "#%%\n",
     "is_executing": false
    }
   }
  },
  {
   "cell_type": "code",
   "execution_count": 94,
   "outputs": [
    {
     "name": "stdout",
     "text": [
      "Ciudad de Mexico\n",
      "Address\n",
      "Azcapotzalco, Ciudad de Mexico\n",
      "Coordinates\n",
      "19.4858148 -99.18420573027606\n",
      "Radius\n",
      "5000\n"
     ],
     "output_type": "stream"
    }
   ],
   "source": [
    "print('Ciudad de Mexico')\n",
    "address = 'Azcapotzalco, Ciudad de Mexico'\n",
    "\n",
    "geolocator = Nominatim(user_agent=\"foursquare_agent\")\n",
    "location = geolocator.geocode(address)\n",
    "latitude = location.latitude\n",
    "longitude = location.longitude\n",
    "\n",
    "print('Address')\n",
    "print(address)\n",
    "print('Coordinates')\n",
    "print(latitude, longitude)\n",
    "print('Radius')\n",
    "print(radius)"
   ],
   "metadata": {
    "collapsed": false,
    "pycharm": {
     "name": "#%%\n",
     "is_executing": false
    }
   }
  },
  {
   "cell_type": "code",
   "execution_count": 95,
   "outputs": [
    {
     "name": "stdout",
     "text": [
      "Request code\n",
      "200\n",
      "{'meta': {'code': 200, 'requestId': '5e880edd71c428001b795f35'}, 'response': {'venues': [{'id': '4e2f0501d4c058fdbeef80e9', 'name': 'Jarritos Azcapotzalco', 'location': {'lat': 19.485444389764485, 'lng': -99.18402355999812, 'labeledLatLngs': [{'label': 'display', 'lat': 19.485444389764485, 'lng': -99.18402355999812}], 'distance': 45, 'cc': 'MX', 'city': 'Ciudad de México', 'state': 'Distrito Federal', 'country': 'México', 'formattedAddress': ['Ciudad de México, Distrito Federal', 'México']}, 'categories': [{'id': '4bf58dd8d48988d124941735', 'name': 'Office', 'pluralName': 'Offices', 'shortName': 'Office', 'icon': {'prefix': 'https://ss3.4sqi.net/img/categories_v2/building/default_', 'suffix': '.png'}, 'primary': True}], 'referralId': 'v-1585975243', 'hasPerk': False}, {'id': '4feb2778e4b086dbf28ee476', 'name': 'Embotelladora De Mexico (Red Cola)', 'location': {'address': 'Azcapotzalco', 'lat': 19.485869627632248, 'lng': -99.18374305582773, 'labeledLatLngs': [{'label': 'display', 'lat': 19.485869627632248, 'lng': -99.18374305582773}], 'distance': 48, 'cc': 'MX', 'country': 'México', 'formattedAddress': ['Azcapotzalco', 'México']}, 'categories': [{'id': '4eb1bea83b7b6f98df247e06', 'name': 'Factory', 'pluralName': 'Factories', 'shortName': 'Factory', 'icon': {'prefix': 'https://ss3.4sqi.net/img/categories_v2/building/factory_', 'suffix': '.png'}, 'primary': True}], 'referralId': 'v-1585975243', 'hasPerk': False}, {'id': '4e8e71f79a5297144ca57846', 'name': 'Farmacias Similares F0652 Azcapotzalco', 'location': {'address': 'Avenida Azcapotzalco 744 Col. Los Reyes', 'lat': 19.485031443296386, 'lng': -99.18567206580505, 'labeledLatLngs': [{'label': 'display', 'lat': 19.485031443296386, 'lng': -99.18567206580505}], 'distance': 176, 'postalCode': '02010', 'cc': 'MX', 'city': 'Delegación  Azcapotzalco', 'state': 'Distrito Federal', 'country': 'México', 'formattedAddress': ['Avenida Azcapotzalco 744 Col. Los Reyes', '02010 Delegación  Azcapotzalco, Distrito Federal', 'México']}, 'categories': [{'id': '4bf58dd8d48988d10f951735', 'name': 'Pharmacy', 'pluralName': 'Pharmacies', 'shortName': 'Pharmacy', 'icon': {'prefix': 'https://ss3.4sqi.net/img/categories_v2/shops/pharmacy_', 'suffix': '.png'}, 'primary': True}], 'referralId': 'v-1585975243', 'hasPerk': False}, {'id': '4fa18204e4b0b4c47acab6c0', 'name': 'Embotelladora Aga', 'location': {'lat': 19.485582, 'lng': -99.18406, 'labeledLatLngs': [{'label': 'display', 'lat': 19.485582, 'lng': -99.18406}], 'distance': 30, 'cc': 'MX', 'country': 'México', 'formattedAddress': ['México']}, 'categories': [{'id': '4eb1bea83b7b6f98df247e06', 'name': 'Factory', 'pluralName': 'Factories', 'shortName': 'Factory', 'icon': {'prefix': 'https://ss3.4sqi.net/img/categories_v2/building/factory_', 'suffix': '.png'}, 'primary': True}], 'referralId': 'v-1585975243', 'hasPerk': False}, {'id': '4edeef2cf9aba0b101f96093', 'name': 'Delegación Azcapotzalco', 'location': {'address': 'Centro de azcapotzalco', 'crossStreet': '22 de Febrero', 'lat': 19.47950448814305, 'lng': -99.18805976097673, 'labeledLatLngs': [{'label': 'display', 'lat': 19.47950448814305, 'lng': -99.18805976097673}], 'distance': 810, 'postalCode': '02000', 'cc': 'MX', 'city': 'Ciudad de México', 'state': 'Distrito Federal', 'country': 'México', 'formattedAddress': ['Centro de azcapotzalco (22 de Febrero)', '02000 Ciudad de México, Distrito Federal', 'México']}, 'categories': [{'id': '52e81612bcbc57f1066b7a38', 'name': 'Town Hall', 'pluralName': 'Town Halls', 'shortName': 'Town Hall', 'icon': {'prefix': 'https://ss3.4sqi.net/img/categories_v2/building/cityhall_', 'suffix': '.png'}, 'primary': True}], 'referralId': 'v-1585975243', 'hasPerk': False}, {'id': '4fb0542de4b084c299e9ba13', 'name': 'Burguers \"El Nido\"', 'location': {'lat': 19.4853655769571, 'lng': -99.18543623620221, 'labeledLatLngs': [{'label': 'display', 'lat': 19.4853655769571, 'lng': -99.18543623620221}], 'distance': 138, 'cc': 'MX', 'country': 'México', 'formattedAddress': ['México']}, 'categories': [{'id': '4bf58dd8d48988d16c941735', 'name': 'Burger Joint', 'pluralName': 'Burger Joints', 'shortName': 'Burgers', 'icon': {'prefix': 'https://ss3.4sqi.net/img/categories_v2/food/burger_', 'suffix': '.png'}, 'primary': True}], 'referralId': 'v-1585975243', 'hasPerk': False}, {'id': '4f60bba3e4b071d8a233f07e', 'name': 'Subway', 'location': {'address': 'Reforma 222', 'lat': 19.486147519405062, 'lng': -99.18474346167305, 'labeledLatLngs': [{'label': 'display', 'lat': 19.486147519405062, 'lng': -99.18474346167305}], 'distance': 67, 'cc': 'MX', 'state': 'Distrito Federal', 'country': 'México', 'formattedAddress': ['Reforma 222', 'Distrito Federal', 'México']}, 'categories': [{'id': '4bf58dd8d48988d1c5941735', 'name': 'Sandwich Place', 'pluralName': 'Sandwich Places', 'shortName': 'Sandwiches', 'icon': {'prefix': 'https://ss3.4sqi.net/img/categories_v2/food/deli_', 'suffix': '.png'}, 'primary': True}], 'referralId': 'v-1585975243', 'hasPerk': False}, {'id': '4daa406493a04642f07c2e82', 'name': 'El Taquito', 'location': {'address': 'Los Reyes', 'crossStreet': 'Ahuacatitla', 'lat': 19.485100822646146, 'lng': -99.18379196114648, 'labeledLatLngs': [{'label': 'display', 'lat': 19.485100822646146, 'lng': -99.18379196114648}], 'distance': 90, 'postalCode': '02010', 'cc': 'MX', 'city': 'Ciudad de México', 'state': 'Distrito Federal', 'country': 'México', 'formattedAddress': ['Los Reyes (Ahuacatitla)', '02010 Ciudad de México, Distrito Federal', 'México']}, 'categories': [{'id': '4bf58dd8d48988d151941735', 'name': 'Taco Place', 'pluralName': 'Taco Places', 'shortName': 'Tacos', 'icon': {'prefix': 'https://ss3.4sqi.net/img/categories_v2/food/taco_', 'suffix': '.png'}, 'primary': True}], 'referralId': 'v-1585975243', 'hasPerk': False}, {'id': '5b8ad273419a9e002cd0213f', 'name': 'La Casa De Acuario', 'location': {'lat': 19.486608, 'lng': -99.185139, 'labeledLatLngs': [{'label': 'display', 'lat': 19.486608, 'lng': -99.185139}], 'distance': 131, 'postalCode': '02010', 'cc': 'MX', 'city': 'Ciudad de México', 'state': 'CDMX', 'country': 'México', 'formattedAddress': ['02010 Ciudad de México, CDMX', 'México']}, 'categories': [{'id': '4bf58dd8d48988d1e5931735', 'name': 'Music Venue', 'pluralName': 'Music Venues', 'shortName': 'Music Venue', 'icon': {'prefix': 'https://ss3.4sqi.net/img/categories_v2/arts_entertainment/musicvenue_', 'suffix': '.png'}, 'primary': True}], 'referralId': 'v-1585975243', 'hasPerk': False}, {'id': '53e00f8e498e29bce037870a', 'name': 'Life Style Tattoo & Piercing', 'location': {'lat': 19.48472157120865, 'lng': -99.18406751041275, 'labeledLatLngs': [{'label': 'display', 'lat': 19.48472157120865, 'lng': -99.18406751041275}], 'distance': 122, 'cc': 'MX', 'country': 'México', 'formattedAddress': ['México']}, 'categories': [{'id': '4bf58dd8d48988d1de931735', 'name': 'Tattoo Parlor', 'pluralName': 'Tattoo Parlors', 'shortName': 'Tattoo', 'icon': {'prefix': 'https://ss3.4sqi.net/img/categories_v2/shops/tattoos_', 'suffix': '.png'}, 'primary': True}], 'referralId': 'v-1585975243', 'hasPerk': False}, {'id': '4c9ea4d946978cfae2faa37f', 'name': 'Neko Café', 'location': {'address': 'Av. capilla de los reyes #60', 'crossStreet': 'Los Reyes', 'lat': 19.484151845203947, 'lng': -99.18332576751709, 'labeledLatLngs': [{'label': 'display', 'lat': 19.484151845203947, 'lng': -99.18332576751709}], 'distance': 206, 'postalCode': '02010', 'cc': 'MX', 'city': 'Ciudad de México', 'state': 'Distrito Federal', 'country': 'México', 'formattedAddress': ['Av. capilla de los reyes #60 (Los Reyes)', '02010 Ciudad de México, Distrito Federal', 'México']}, 'categories': [{'id': '4bf58dd8d48988d111941735', 'name': 'Japanese Restaurant', 'pluralName': 'Japanese Restaurants', 'shortName': 'Japanese', 'icon': {'prefix': 'https://ss3.4sqi.net/img/categories_v2/food/japanese_', 'suffix': '.png'}, 'primary': True}], 'venuePage': {'id': '57448334'}, 'referralId': 'v-1585975243', 'hasPerk': False}, {'id': '5b05f019c53093002c6a707d', 'name': 'Pronósticos Azcapotzalco', 'location': {'address': 'Azcapotzalco 766', 'lat': 19.485786, 'lng': -99.18547, 'labeledLatLngs': [{'label': 'display', 'lat': 19.485786, 'lng': -99.18547}], 'distance': 132, 'postalCode': '02010', 'cc': 'MX', 'city': 'Ciudad de México', 'state': 'Distrito Federal', 'country': 'México', 'formattedAddress': ['Azcapotzalco 766', '02010 Ciudad de México, Distrito Federal', 'México']}, 'categories': [{'id': '52f2ab2ebcbc57f1066b8b38', 'name': 'Lottery Retailer', 'pluralName': 'Lottery Retailers', 'shortName': 'Lottery', 'icon': {'prefix': 'https://ss3.4sqi.net/img/categories_v2/shops/financial_', 'suffix': '.png'}, 'primary': True}], 'referralId': 'v-1585975243', 'hasPerk': False}, {'id': '4fadb140e4b0b84e1c6c7c55', 'name': 'Magic Cleaner', 'location': {'address': 'Ahuacatitla 76', 'lat': 19.485165, 'lng': -99.183826, 'labeledLatLngs': [{'label': 'display', 'lat': 19.485165, 'lng': -99.183826}], 'distance': 82, 'cc': 'MX', 'country': 'México', 'formattedAddress': ['Ahuacatitla 76', 'México']}, 'categories': [{'id': '4bf58dd8d48988d1fc941735', 'name': 'Laundry Service', 'pluralName': 'Laundry Services', 'shortName': 'Laundry', 'icon': {'prefix': 'https://ss3.4sqi.net/img/categories_v2/shops/laundry_', 'suffix': '.png'}, 'primary': True}], 'referralId': 'v-1585975243', 'hasPerk': False}, {'id': '56945cb9498e241a266ace98', 'name': 'Iglesia San Felipe Y Santiago', 'location': {'address': 'Av. Azcapotzalco', 'lat': 19.485073205769595, 'lng': -99.18525718843405, 'labeledLatLngs': [{'label': 'display', 'lat': 19.485073205769595, 'lng': -99.18525718843405}], 'distance': 137, 'cc': 'MX', 'country': 'México', 'formattedAddress': ['Av. Azcapotzalco', 'México']}, 'categories': [{'id': '507c8c4091d498d9fc8c67a9', 'name': 'Public Art', 'pluralName': 'Public Art', 'shortName': 'Public Art', 'icon': {'prefix': 'https://ss3.4sqi.net/img/categories_v2/arts_entertainment/default_', 'suffix': '.png'}, 'primary': True}], 'referralId': 'v-1585975243', 'hasPerk': False}, {'id': '531be4c9498e100c1bdbaf48', 'name': 'El Ahuehuete (Pozole y Torta Ahogada)', 'location': {'address': 'Av Azcapotzalco #789', 'lat': 19.48667481118352, 'lng': -99.18515985047975, 'labeledLatLngs': [{'label': 'display', 'lat': 19.48667481118352, 'lng': -99.18515985047975}], 'distance': 138, 'cc': 'MX', 'state': 'Distrito Federal', 'country': 'México', 'formattedAddress': ['Av Azcapotzalco #789', 'Distrito Federal', 'México']}, 'categories': [{'id': '4bf58dd8d48988d1c4941735', 'name': 'Restaurant', 'pluralName': 'Restaurants', 'shortName': 'Restaurant', 'icon': {'prefix': 'https://ss3.4sqi.net/img/categories_v2/food/default_', 'suffix': '.png'}, 'primary': True}], 'referralId': 'v-1585975243', 'hasPerk': False}, {'id': '5ab0446997cf5a0e4103af44', 'name': 'Zintle', 'location': {'address': 'Calle Castilla', 'crossStreet': 'Calle Rayon', 'lat': 19.484413, 'lng': -99.184624, 'labeledLatLngs': [{'label': 'display', 'lat': 19.484413, 'lng': -99.184624}], 'distance': 162, 'postalCode': '02010', 'cc': 'MX', 'city': 'Ciudad de México', 'state': 'CDMX', 'country': 'México', 'formattedAddress': ['Calle Castilla (Calle Rayon)', '02010 Ciudad de México, CDMX', 'México']}, 'categories': [{'id': '4bf58dd8d48988d1c1941735', 'name': 'Mexican Restaurant', 'pluralName': 'Mexican Restaurants', 'shortName': 'Mexican', 'icon': {'prefix': 'https://ss3.4sqi.net/img/categories_v2/food/mexican_', 'suffix': '.png'}, 'primary': True}], 'referralId': 'v-1585975243', 'hasPerk': False}, {'id': '5172e09de4b0bbda23054309', 'name': 'Colegio Azcapotzalco', 'location': {'lat': 19.484985327355666, 'lng': -99.18445685764426, 'labeledLatLngs': [{'label': 'display', 'lat': 19.484985327355666, 'lng': -99.18445685764426}], 'distance': 96, 'cc': 'MX', 'country': 'México', 'formattedAddress': ['México']}, 'categories': [{'id': '4bf58dd8d48988d1a2941735', 'name': 'Community College', 'pluralName': 'Community Colleges', 'shortName': 'Community College', 'icon': {'prefix': 'https://ss3.4sqi.net/img/categories_v2/education/communitycollege_', 'suffix': '.png'}, 'primary': True}], 'referralId': 'v-1585975243', 'hasPerk': False}, {'id': '50cce8c3e4b05e3ef8d042f2', 'name': 'tortilleria', 'location': {'lat': 19.48503699113776, 'lng': -99.18239117582739, 'labeledLatLngs': [{'label': 'display', 'lat': 19.48503699113776, 'lng': -99.18239117582739}], 'distance': 209, 'cc': 'MX', 'country': 'México', 'formattedAddress': ['México']}, 'categories': [{'id': '4bf58dd8d48988d151941735', 'name': 'Taco Place', 'pluralName': 'Taco Places', 'shortName': 'Tacos', 'icon': {'prefix': 'https://ss3.4sqi.net/img/categories_v2/food/taco_', 'suffix': '.png'}, 'primary': True}], 'referralId': 'v-1585975243', 'hasPerk': False}, {'id': '5205aa9011d2cb9318b375f4', 'name': 'Fonda y Tacos Casa Blanca', 'location': {'lat': 19.484916, 'lng': -99.183244, 'labeledLatLngs': [{'label': 'display', 'lat': 19.484916, 'lng': -99.183244}], 'distance': 142, 'cc': 'MX', 'country': 'México', 'formattedAddress': ['México']}, 'categories': [{'id': '4bf58dd8d48988d1c1941735', 'name': 'Mexican Restaurant', 'pluralName': 'Mexican Restaurants', 'shortName': 'Mexican', 'icon': {'prefix': 'https://ss3.4sqi.net/img/categories_v2/food/mexican_', 'suffix': '.png'}, 'primary': True}], 'referralId': 'v-1585975243', 'hasPerk': False}, {'id': '568835f2498e91265ecdb8aa', 'name': 'Petroleras Azcapotzalco', 'location': {'lat': 19.487499, 'lng': -99.184756, 'labeledLatLngs': [{'label': 'display', 'lat': 19.487499, 'lng': -99.184756}], 'distance': 196, 'cc': 'MX', 'country': 'México', 'formattedAddress': ['México']}, 'categories': [{'id': '4bf58dd8d48988d1df931735', 'name': 'BBQ Joint', 'pluralName': 'BBQ Joints', 'shortName': 'BBQ', 'icon': {'prefix': 'https://ss3.4sqi.net/img/categories_v2/food/bbqalt_', 'suffix': '.png'}, 'primary': True}], 'referralId': 'v-1585975243', 'hasPerk': False}, {'id': '57fbf46d498e093d5b41a485', 'name': 'Uñas Con Ángel', 'location': {'address': 'Avenida Azcapotzalco #798', 'lat': 19.486597, 'lng': -99.18515, 'labeledLatLngs': [{'label': 'display', 'lat': 19.486597, 'lng': -99.18515}], 'distance': 131, 'postalCode': '02010', 'cc': 'MX', 'city': 'Ciudad de México', 'state': 'Distrito Federal', 'country': 'México', 'formattedAddress': ['Avenida Azcapotzalco #798', '02010 Ciudad de México, Distrito Federal', 'México']}, 'categories': [{'id': '4f04aa0c2fb6e1c99f3db0b8', 'name': 'Nail Salon', 'pluralName': 'Nail Salons', 'shortName': 'Nail Salon', 'icon': {'prefix': 'https://ss3.4sqi.net/img/categories_v2/shops/nailsalon_', 'suffix': '.png'}, 'primary': True}], 'referralId': 'v-1585975243', 'hasPerk': False}, {'id': '5658a78c498ef1a0d090f61e', 'name': 'Super Lustre, S.A. de C.V.', 'location': {'address': 'Av Azcapotzalco 775', 'lat': 19.486254379505702, 'lng': -99.18538697255651, 'labeledLatLngs': [{'label': 'display', 'lat': 19.486254379505702, 'lng': -99.18538697255651}], 'distance': 133, 'postalCode': '02010', 'cc': 'MX', 'city': 'Ciudad de México', 'state': 'Distrito Federal', 'country': 'México', 'formattedAddress': ['Av Azcapotzalco 775', '02010 Ciudad de México, Distrito Federal', 'México']}, 'categories': [{'id': '52f2ab2ebcbc57f1066b8b22', 'name': 'Outdoor Supply Store', 'pluralName': 'Outdoor Supply Stores', 'shortName': 'Outdoor Supplies', 'icon': {'prefix': 'https://ss3.4sqi.net/img/categories_v2/shops/default_', 'suffix': '.png'}, 'primary': True}], 'referralId': 'v-1585975243', 'hasPerk': False}, {'id': '58f4f632d7627e5648ff17c6', 'name': 'Mr Pet', 'location': {'lat': 19.485294, 'lng': -99.185666, 'labeledLatLngs': [{'label': 'display', 'lat': 19.485294, 'lng': -99.185666}], 'distance': 163, 'postalCode': '02010', 'cc': 'MX', 'city': 'Ciudad de México', 'state': 'Distrito Federal', 'country': 'México', 'formattedAddress': ['02010 Ciudad de México, Distrito Federal', 'México']}, 'categories': [{'id': '5032897c91d4c4b30a586d69', 'name': 'Pet Service', 'pluralName': 'Pet Services', 'shortName': 'Pet Service', 'icon': {'prefix': 'https://ss3.4sqi.net/img/categories_v2/shops/pet_store_', 'suffix': '.png'}, 'primary': True}], 'referralId': 'v-1585975243', 'hasPerk': False}, {'id': '5c560580bfc6d0002c729f64', 'name': 'TOP STYLE', 'location': {'address': 'Ahuacatitla 101', 'lat': 19.485813, 'lng': -99.183768, 'labeledLatLngs': [{'label': 'display', 'lat': 19.485813, 'lng': -99.183768}], 'distance': 45, 'postalCode': '02010', 'cc': 'MX', 'city': 'Ciudad de México', 'state': 'CDMX', 'country': 'México', 'formattedAddress': ['Ahuacatitla 101', '02010 Ciudad de México, CDMX', 'México']}, 'categories': [{'id': '4bf58dd8d48988d110951735', 'name': 'Salon / Barbershop', 'pluralName': 'Salons / Barbershops', 'shortName': 'Salon / Barbershop', 'icon': {'prefix': 'https://ss3.4sqi.net/img/categories_v2/shops/salon_barber_', 'suffix': '.png'}, 'primary': True}], 'referralId': 'v-1585975243', 'hasPerk': False}, {'id': '54b1a272498ea12fdf6c7ca9', 'name': 'Carnitas González', 'location': {'lat': 19.487113, 'lng': -99.185103, 'labeledLatLngs': [{'label': 'display', 'lat': 19.487113, 'lng': -99.185103}], 'distance': 172, 'cc': 'MX', 'country': 'México', 'formattedAddress': ['México']}, 'categories': [{'id': '4bf58dd8d48988d151941735', 'name': 'Taco Place', 'pluralName': 'Taco Places', 'shortName': 'Tacos', 'icon': {'prefix': 'https://ss3.4sqi.net/img/categories_v2/food/taco_', 'suffix': '.png'}, 'primary': True}], 'referralId': 'v-1585975243', 'hasPerk': False}, {'id': '5d51ced70a1a1f0008637ac0', 'name': 'Los Tulipanes', 'location': {'address': 'Capilla De Los Reyes Numero 3', 'lat': 19.485627, 'lng': -99.185582, 'labeledLatLngs': [{'label': 'display', 'lat': 19.485627, 'lng': -99.185582}], 'distance': 145, 'postalCode': '02010', 'cc': 'MX', 'city': 'Ciudad de México', 'state': 'CDMX', 'country': 'México', 'formattedAddress': ['Capilla De Los Reyes Numero 3', '02010 Ciudad de México, CDMX', 'México']}, 'categories': [{'id': '4bf58dd8d48988d1c1941735', 'name': 'Mexican Restaurant', 'pluralName': 'Mexican Restaurants', 'shortName': 'Mexican', 'icon': {'prefix': 'https://ss3.4sqi.net/img/categories_v2/food/mexican_', 'suffix': '.png'}, 'primary': True}], 'referralId': 'v-1585975243', 'hasPerk': False}, {'id': '50035790e4b0ed544a1b7b07', 'name': 'La Reyna Michoacana', 'location': {'address': 'Castilla Oriente 731', 'crossStreet': 'Av. Azcapotzalco', 'lat': 19.484705710011223, 'lng': -99.185538387631, 'labeledLatLngs': [{'label': 'display', 'lat': 19.484705710011223, 'lng': -99.185538387631}], 'distance': 186, 'cc': 'MX', 'city': 'Azcapotzalco', 'state': 'Distrito Federal', 'country': 'México', 'formattedAddress': ['Castilla Oriente 731 (Av. Azcapotzalco)', 'Azcapotzalco, Distrito Federal', 'México']}, 'categories': [{'id': '4bf58dd8d48988d1c9941735', 'name': 'Ice Cream Shop', 'pluralName': 'Ice Cream Shops', 'shortName': 'Ice Cream', 'icon': {'prefix': 'https://ss3.4sqi.net/img/categories_v2/food/icecream_', 'suffix': '.png'}, 'primary': True}], 'referralId': 'v-1585975243', 'hasPerk': False}, {'id': '50788744e4b018ca9557f111', 'name': 'gasolineria el coteron', 'location': {'address': 'Camarones S/N', 'crossStreet': 'Norte 81', 'lat': 19.486011963328895, 'lng': -99.18302385283559, 'labeledLatLngs': [{'label': 'display', 'lat': 19.486011963328895, 'lng': -99.18302385283559}], 'distance': 125, 'postalCode': '02080', 'cc': 'MX', 'city': 'Azcapotzalco', 'state': 'Distrito Federal', 'country': 'México', 'formattedAddress': ['Camarones S/N (Norte 81)', '02080 Azcapotzalco, Distrito Federal', 'México']}, 'categories': [{'id': '4bf58dd8d48988d113951735', 'name': 'Gas Station', 'pluralName': 'Gas Stations', 'shortName': 'Gas Station', 'icon': {'prefix': 'https://ss3.4sqi.net/img/categories_v2/shops/gas_', 'suffix': '.png'}, 'primary': True}], 'referralId': 'v-1585975243', 'hasPerk': False}, {'id': '52365b03498eaa432a280fa8', 'name': 'Pastelería El Sueño.', 'location': {'lat': 19.485683512484993, 'lng': -99.18552216457365, 'labeledLatLngs': [{'label': 'display', 'lat': 19.485683512484993, 'lng': -99.18552216457365}], 'distance': 138, 'cc': 'MX', 'country': 'México', 'formattedAddress': ['México']}, 'categories': [{'id': '4bf58dd8d48988d1bc941735', 'name': 'Cupcake Shop', 'pluralName': 'Cupcake Shops', 'shortName': 'Cupcakes', 'icon': {'prefix': 'https://ss3.4sqi.net/img/categories_v2/food/cupcakes_', 'suffix': '.png'}, 'primary': True}], 'referralId': 'v-1585975243', 'hasPerk': False}, {'id': '4fbc0180e4b05c99c3fef1a2', 'name': 'consultorio medico BEST', 'location': {'lat': 19.485025221234302, 'lng': -99.18567898759846, 'labeledLatLngs': [{'label': 'display', 'lat': 19.485025221234302, 'lng': -99.18567898759846}], 'distance': 177, 'cc': 'MX', 'country': 'México', 'formattedAddress': ['México']}, 'categories': [{'id': '4bf58dd8d48988d177941735', 'name': \"Doctor's Office\", 'pluralName': \"Doctor's Offices\", 'shortName': \"Doctor's Office\", 'icon': {'prefix': 'https://ss3.4sqi.net/img/categories_v2/building/medical_doctorsoffice_', 'suffix': '.png'}, 'primary': True}], 'referralId': 'v-1585975243', 'hasPerk': False}], 'confident': False}}\n"
     ],
     "output_type": "stream"
    }
   ],
   "source": [
    "# define URL\n",
    "url_venues = 'https://api.foursquare.com/v2/venues/search?client_id={}&client_secret={}&ll={},{}&v={}&radius={}'\\\n",
    "    .format(CLIENT_ID,\n",
    "            CLIENT_SECRET,\n",
    "            latitude,\n",
    "            longitude,\n",
    "            VERSION,\n",
    "            radius)\n",
    "\n",
    "# send GET request and get trending venues\n",
    "results_venues = requests.get(url_venues).json()\n",
    "print('Request code')\n",
    "print(results_venues['meta']['code'])\n",
    "print(results_venues)"
   ],
   "metadata": {
    "collapsed": false,
    "pycharm": {
     "name": "#%%\n",
     "is_executing": false
    }
   }
  },
  {
   "cell_type": "markdown",
   "source": [
    "## Getting relevant part of JSON and transform it into a pandas dataframe"
   ],
   "metadata": {
    "collapsed": false,
    "pycharm": {
     "name": "#%% md\n"
    }
   }
  },
  {
   "cell_type": "code",
   "execution_count": 96,
   "outputs": [
    {
     "name": "stdout",
     "text": [
      "Step completed\n"
     ],
     "output_type": "stream"
    },
    {
     "name": "stderr",
     "text": [
      "/home/ivan/anaconda3/envs/Coursera_Capstone/lib/python3.7/site-packages/ipykernel_launcher.py:11: FutureWarning: pandas.io.json.json_normalize is deprecated, use pandas.json_normalize instead\n",
      "  # This is added back by InteractiveShellApp.init_path()\n"
     ],
     "output_type": "stream"
    }
   ],
   "source": [
    "if len(results_venues['response']['venues']) == 0:\n",
    "    venues_df = 'No trending venues are available at the moment!'\n",
    "\n",
    "else:\n",
    "    # assign relevant part of JSON to venues\n",
    "    venues_json = results_venues['response']['venues']\n",
    "    # Getting the name of the primary category\n",
    "    for v in venues_json:\n",
    "        v['categories'] = v['categories'][0]['name']\n",
    "    # tranform venues into a dataframe\n",
    "    venues_df = json_normalize(venues_json)\n",
    "    ## Preprocessing \n",
    "\n",
    "print('Step completed')\n"
   ],
   "metadata": {
    "collapsed": false,
    "pycharm": {
     "name": "#%%\n",
     "is_executing": false
    }
   }
  },
  {
   "cell_type": "code",
   "execution_count": 97,
   "outputs": [
    {
     "data": {
      "text/plain": "                                     name categories  distance zip_code  \\\n0                   Jarritos Azcapotzalco     Office        45      NaN   \n1      Embotelladora De Mexico (Red Cola)    Factory        48      NaN   \n2  Farmacias Similares F0652 Azcapotzalco   Pharmacy       176    02010   \n3                       Embotelladora Aga    Factory        30      NaN   \n4                 Delegación Azcapotzalco  Town Hall       810    02000   \n\n         lat        lng  \n0  19.485444 -99.184024  \n1  19.485870 -99.183743  \n2  19.485031 -99.185672  \n3  19.485582 -99.184060  \n4  19.479504 -99.188060  ",
      "text/html": "<div>\n<style scoped>\n    .dataframe tbody tr th:only-of-type {\n        vertical-align: middle;\n    }\n\n    .dataframe tbody tr th {\n        vertical-align: top;\n    }\n\n    .dataframe thead th {\n        text-align: right;\n    }\n</style>\n<table border=\"1\" class=\"dataframe\">\n  <thead>\n    <tr style=\"text-align: right;\">\n      <th></th>\n      <th>name</th>\n      <th>categories</th>\n      <th>distance</th>\n      <th>zip_code</th>\n      <th>lat</th>\n      <th>lng</th>\n    </tr>\n  </thead>\n  <tbody>\n    <tr>\n      <th>0</th>\n      <td>Jarritos Azcapotzalco</td>\n      <td>Office</td>\n      <td>45</td>\n      <td>NaN</td>\n      <td>19.485444</td>\n      <td>-99.184024</td>\n    </tr>\n    <tr>\n      <th>1</th>\n      <td>Embotelladora De Mexico (Red Cola)</td>\n      <td>Factory</td>\n      <td>48</td>\n      <td>NaN</td>\n      <td>19.485870</td>\n      <td>-99.183743</td>\n    </tr>\n    <tr>\n      <th>2</th>\n      <td>Farmacias Similares F0652 Azcapotzalco</td>\n      <td>Pharmacy</td>\n      <td>176</td>\n      <td>02010</td>\n      <td>19.485031</td>\n      <td>-99.185672</td>\n    </tr>\n    <tr>\n      <th>3</th>\n      <td>Embotelladora Aga</td>\n      <td>Factory</td>\n      <td>30</td>\n      <td>NaN</td>\n      <td>19.485582</td>\n      <td>-99.184060</td>\n    </tr>\n    <tr>\n      <th>4</th>\n      <td>Delegación Azcapotzalco</td>\n      <td>Town Hall</td>\n      <td>810</td>\n      <td>02000</td>\n      <td>19.479504</td>\n      <td>-99.188060</td>\n    </tr>\n  </tbody>\n</table>\n</div>"
     },
     "metadata": {},
     "output_type": "execute_result",
     "execution_count": 97
    }
   ],
   "source": [
    "venues_df_clr = pd.DataFrame({\n",
    "    'name': venues_df['name'],\n",
    "    'categories': venues_df['categories'],\n",
    "    'distance': venues_df['location.distance'],\n",
    "    'zip_code': venues_df['location.postalCode'],\n",
    "    'lat': venues_df['location.lat'],\n",
    "    'lng': venues_df['location.lng']\n",
    "})\n",
    "venues_df_clr.head()\n"
   ],
   "metadata": {
    "collapsed": false,
    "pycharm": {
     "name": "#%%\n",
     "is_executing": false
    }
   }
  },
  {
   "cell_type": "code",
   "execution_count": 98,
   "outputs": [
    {
     "data": {
      "text/plain": "array([nan, '02010', '02000', '02080'], dtype=object)"
     },
     "metadata": {},
     "output_type": "execute_result",
     "execution_count": 98
    }
   ],
   "source": [
    "venues_df_clr['zip_code'].unique()"
   ],
   "metadata": {
    "collapsed": false,
    "pycharm": {
     "name": "#%%\n",
     "is_executing": false
    }
   }
  },
  {
   "cell_type": "code",
   "execution_count": 99,
   "outputs": [
    {
     "data": {
      "text/plain": "(30, 6)"
     },
     "metadata": {},
     "output_type": "execute_result",
     "execution_count": 99
    }
   ],
   "source": [
    "venues_df_clr.shape\n"
   ],
   "metadata": {
    "collapsed": false,
    "pycharm": {
     "name": "#%%\n",
     "is_executing": false
    }
   }
  },
  {
   "cell_type": "code",
   "execution_count": null,
   "outputs": [],
   "source": [
    "\n"
   ],
   "metadata": {
    "collapsed": false,
    "pycharm": {
     "name": "#%%\n"
    }
   }
  }
 ],
 "metadata": {
  "kernelspec": {
   "display_name": "Python 3",
   "language": "python",
   "name": "python3"
  },
  "language_info": {
   "codemirror_mode": {
    "name": "ipython",
    "version": 2
   },
   "file_extension": ".py",
   "mimetype": "text/x-python",
   "name": "python",
   "nbconvert_exporter": "python",
   "pygments_lexer": "ipython2",
   "version": "2.7.6"
  },
  "pycharm": {
   "stem_cell": {
    "cell_type": "raw",
    "source": [],
    "metadata": {
     "collapsed": false
    }
   }
  }
 },
 "nbformat": 4,
 "nbformat_minor": 0
}