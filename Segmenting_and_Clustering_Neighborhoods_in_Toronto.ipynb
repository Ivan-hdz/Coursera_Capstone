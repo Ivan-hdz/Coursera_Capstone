{
 "cells": [
  {
   "cell_type": "markdown",
   "metadata": {
    "collapsed": true,
    "pycharm": {
     "name": "#%% md\n"
    }
   },
   "source": [
    "# Segmenting and Clustering Neighborhoods in Toronto"
   ]
  },
  {
   "cell_type": "markdown",
   "metadata": {
    "pycharm": {
     "name": "#%% md\n"
    }
   },
   "source": [
    "## Part 1\n",
    "### Installing dependencies"
   ]
  },
  {
   "cell_type": "code",
   "execution_count": 1,
   "metadata": {
    "pycharm": {
     "is_executing": true,
     "name": "#%%\n"
    }
   },
   "outputs": [
    {
     "name": "stdout",
     "output_type": "stream",
     "text": [
      "Collecting package metadata (current_repodata.json): done\n",
      "Solving environment: done\n",
      "\n",
      "## Package Plan ##\n",
      "\n",
      "  environment location: /home/ivan/anaconda3/envs/Coursera_Capstone\n",
      "\n",
      "  added / updated specs:\n",
      "    - numpy\n",
      "\n",
      "\n",
      "The following packages will be UPDATED:\n",
      "\n",
      "  ca-certificates    conda-forge::ca-certificates-2019.11.~ --> pkgs/main::ca-certificates-2020.1.1-0\n",
      "\n",
      "The following packages will be SUPERSEDED by a higher-priority channel:\n",
      "\n",
      "  certifi            conda-forge::certifi-2019.11.28-py37h~ --> pkgs/main::certifi-2019.11.28-py37_1\n",
      "  openssl            conda-forge::openssl-1.1.1f-h516909a_0 --> pkgs/main::openssl-1.1.1f-h7b6447c_0\n",
      "\n",
      "\n",
      "Preparing transaction: done\n",
      "Verifying transaction: done\n",
      "Executing transaction: done\n",
      "Collecting package metadata (current_repodata.json): done\n",
      "Solving environment: done\n",
      "\n",
      "# All requested packages already installed.\n",
      "\n",
      "Collecting package metadata (current_repodata.json): done\n",
      "Solving environment: done\n",
      "\n",
      "# All requested packages already installed.\n",
      "\n",
      "Collecting package metadata (current_repodata.json): done\n",
      "Solving environment: done\n",
      "\n",
      "# All requested packages already installed.\n",
      "\n",
      "Collecting package metadata (current_repodata.json): done\n",
      "Solving environment: done\n",
      "\n",
      "## Package Plan ##\n",
      "\n",
      "  environment location: /home/ivan/anaconda3/envs/Coursera_Capstone\n",
      "\n",
      "  added / updated specs:\n",
      "    - geopy\n",
      "\n",
      "\n",
      "The following packages will be SUPERSEDED by a higher-priority channel:\n",
      "\n",
      "  ca-certificates     pkgs/main::ca-certificates-2020.1.1-0 --> conda-forge::ca-certificates-2019.11.28-hecc5488_0\n",
      "  certifi              pkgs/main::certifi-2019.11.28-py37_1 --> conda-forge::certifi-2019.11.28-py37hc8dfbb8_1\n",
      "  openssl              pkgs/main::openssl-1.1.1f-h7b6447c_0 --> conda-forge::openssl-1.1.1f-h516909a_0\n",
      "\n",
      "\n",
      "Preparing transaction: done\n",
      "Verifying transaction: done\n",
      "Executing transaction: done\n",
      "Collecting package metadata (current_repodata.json): done\n",
      "Solving environment: done\n",
      "\n",
      "# All requested packages already installed.\n",
      "\n",
      "Collecting package metadata (current_repodata.json): done\n",
      "Solving environment: done\n",
      "\n",
      "# All requested packages already installed.\n",
      "\n",
      "Dependencies installed\n"
     ]
    }
   ],
   "source": [
    "import sys\n",
    "!conda install --yes --prefix {sys.prefix} numpy\n",
    "!conda install --yes --prefix {sys.prefix} pandas\n",
    "!conda install --yes --prefix {sys.prefix} lxml\n",
    "!conda install --yes --prefix {sys.prefix} requests\n",
    "!conda install --yes --prefix {sys.prefix} -c conda-forge geopy\n",
    "!conda install --yes --prefix {sys.prefix} -c conda-forge folium=0.5.0\n",
    "!conda install --yes --prefix {sys.prefix} -c conda-forge scikit-learn\n",
    "\n",
    "print('Dependencies installed')"
   ]
  },
  {
   "cell_type": "markdown",
   "metadata": {
    "pycharm": {
     "name": "#%% md\n"
    }
   },
   "source": [
    "### Importing libraries"
   ]
  },
  {
   "cell_type": "code",
   "execution_count": 2,
   "metadata": {
    "pycharm": {
     "is_executing": false,
     "name": "#%%\n"
    }
   },
   "outputs": [
    {
     "name": "stdout",
     "output_type": "stream",
     "text": [
      "Libraries imported\n"
     ]
    }
   ],
   "source": [
    "import numpy as np\n",
    "import pandas as pd\n",
    "import folium \n",
    "import requests \n",
    "from pandas import json_normalize\n",
    "from sklearn.cluster import KMeans\n",
    "\n",
    "print('Libraries imported')"
   ]
  },
  {
   "cell_type": "markdown",
   "metadata": {
    "pycharm": {
     "name": "#%% md\n"
    }
   },
   "source": [
    "### Reading HTML with pandas"
   ]
  },
  {
   "cell_type": "code",
   "execution_count": 3,
   "metadata": {
    "pycharm": {
     "is_executing": false,
     "name": "#%%\n"
    }
   },
   "outputs": [
    {
     "name": "stdout",
     "output_type": "stream",
     "text": [
      "(180, 3)\n"
     ]
    },
    {
     "data": {
      "text/html": [
       "<div>\n",
       "<style scoped>\n",
       "    .dataframe tbody tr th:only-of-type {\n",
       "        vertical-align: middle;\n",
       "    }\n",
       "\n",
       "    .dataframe tbody tr th {\n",
       "        vertical-align: top;\n",
       "    }\n",
       "\n",
       "    .dataframe thead th {\n",
       "        text-align: right;\n",
       "    }\n",
       "</style>\n",
       "<table border=\"1\" class=\"dataframe\">\n",
       "  <thead>\n",
       "    <tr style=\"text-align: right;\">\n",
       "      <th></th>\n",
       "      <th>Postal code</th>\n",
       "      <th>Borough</th>\n",
       "      <th>Neighborhood</th>\n",
       "    </tr>\n",
       "  </thead>\n",
       "  <tbody>\n",
       "    <tr>\n",
       "      <th>0</th>\n",
       "      <td>M1A</td>\n",
       "      <td>Not assigned</td>\n",
       "      <td>NaN</td>\n",
       "    </tr>\n",
       "    <tr>\n",
       "      <th>1</th>\n",
       "      <td>M2A</td>\n",
       "      <td>Not assigned</td>\n",
       "      <td>NaN</td>\n",
       "    </tr>\n",
       "    <tr>\n",
       "      <th>2</th>\n",
       "      <td>M3A</td>\n",
       "      <td>North York</td>\n",
       "      <td>Parkwoods</td>\n",
       "    </tr>\n",
       "    <tr>\n",
       "      <th>3</th>\n",
       "      <td>M4A</td>\n",
       "      <td>North York</td>\n",
       "      <td>Victoria Village</td>\n",
       "    </tr>\n",
       "    <tr>\n",
       "      <th>4</th>\n",
       "      <td>M5A</td>\n",
       "      <td>Downtown Toronto</td>\n",
       "      <td>Regent Park / Harbourfront</td>\n",
       "    </tr>\n",
       "  </tbody>\n",
       "</table>\n",
       "</div>"
      ],
      "text/plain": [
       "  Postal code           Borough                Neighborhood\n",
       "0         M1A      Not assigned                         NaN\n",
       "1         M2A      Not assigned                         NaN\n",
       "2         M3A        North York                   Parkwoods\n",
       "3         M4A        North York            Victoria Village\n",
       "4         M5A  Downtown Toronto  Regent Park / Harbourfront"
      ]
     },
     "execution_count": 3,
     "metadata": {},
     "output_type": "execute_result"
    }
   ],
   "source": [
    "url = 'https://en.wikipedia.org/wiki/List_of_postal_codes_of_Canada:_M'\n",
    "df = pd.read_html(url)[0]\n",
    "print(df.shape)\n",
    "df.head()"
   ]
  },
  {
   "cell_type": "markdown",
   "metadata": {
    "pycharm": {
     "name": "#%% md\n"
    }
   },
   "source": [
    "### Only process the cells that have an assigned borough.\n",
    "Ignore cells with a borough that is Not assigned."
   ]
  },
  {
   "cell_type": "code",
   "execution_count": 4,
   "metadata": {
    "pycharm": {
     "is_executing": false,
     "name": "#%%\n"
    }
   },
   "outputs": [
    {
     "name": "stdout",
     "output_type": "stream",
     "text": [
      "(103, 3)\n"
     ]
    },
    {
     "data": {
      "text/html": [
       "<div>\n",
       "<style scoped>\n",
       "    .dataframe tbody tr th:only-of-type {\n",
       "        vertical-align: middle;\n",
       "    }\n",
       "\n",
       "    .dataframe tbody tr th {\n",
       "        vertical-align: top;\n",
       "    }\n",
       "\n",
       "    .dataframe thead th {\n",
       "        text-align: right;\n",
       "    }\n",
       "</style>\n",
       "<table border=\"1\" class=\"dataframe\">\n",
       "  <thead>\n",
       "    <tr style=\"text-align: right;\">\n",
       "      <th></th>\n",
       "      <th>Postal code</th>\n",
       "      <th>Borough</th>\n",
       "      <th>Neighborhood</th>\n",
       "    </tr>\n",
       "  </thead>\n",
       "  <tbody>\n",
       "    <tr>\n",
       "      <th>0</th>\n",
       "      <td>M3A</td>\n",
       "      <td>North York</td>\n",
       "      <td>Parkwoods</td>\n",
       "    </tr>\n",
       "    <tr>\n",
       "      <th>1</th>\n",
       "      <td>M4A</td>\n",
       "      <td>North York</td>\n",
       "      <td>Victoria Village</td>\n",
       "    </tr>\n",
       "    <tr>\n",
       "      <th>2</th>\n",
       "      <td>M5A</td>\n",
       "      <td>Downtown Toronto</td>\n",
       "      <td>Regent Park / Harbourfront</td>\n",
       "    </tr>\n",
       "    <tr>\n",
       "      <th>3</th>\n",
       "      <td>M6A</td>\n",
       "      <td>North York</td>\n",
       "      <td>Lawrence Manor / Lawrence Heights</td>\n",
       "    </tr>\n",
       "    <tr>\n",
       "      <th>4</th>\n",
       "      <td>M7A</td>\n",
       "      <td>Downtown Toronto</td>\n",
       "      <td>Queen's Park / Ontario Provincial Government</td>\n",
       "    </tr>\n",
       "  </tbody>\n",
       "</table>\n",
       "</div>"
      ],
      "text/plain": [
       "  Postal code           Borough                                  Neighborhood\n",
       "0         M3A        North York                                     Parkwoods\n",
       "1         M4A        North York                              Victoria Village\n",
       "2         M5A  Downtown Toronto                    Regent Park / Harbourfront\n",
       "3         M6A        North York             Lawrence Manor / Lawrence Heights\n",
       "4         M7A  Downtown Toronto  Queen's Park / Ontario Provincial Government"
      ]
     },
     "execution_count": 4,
     "metadata": {},
     "output_type": "execute_result"
    }
   ],
   "source": [
    "df_cleared = df[df['Borough'] != 'Not assigned']\n",
    "df_cleared = df_cleared.reset_index()\n",
    "df_cleared = df_cleared.drop('index', axis=1)\n",
    "print(df_cleared.shape)\n",
    "df_cleared.head()"
   ]
  },
  {
   "cell_type": "markdown",
   "metadata": {},
   "source": [
    "### If a cell has a borough but a Not assigned neighborhood.\n",
    "Then the neighborhood will be the same as the borough.   \n",
    "Let's check"
   ]
  },
  {
   "cell_type": "code",
   "execution_count": 5,
   "metadata": {
    "pycharm": {
     "is_executing": false,
     "name": "#%%\n"
    }
   },
   "outputs": [
    {
     "data": {
      "text/html": [
       "<div>\n",
       "<style scoped>\n",
       "    .dataframe tbody tr th:only-of-type {\n",
       "        vertical-align: middle;\n",
       "    }\n",
       "\n",
       "    .dataframe tbody tr th {\n",
       "        vertical-align: top;\n",
       "    }\n",
       "\n",
       "    .dataframe thead th {\n",
       "        text-align: right;\n",
       "    }\n",
       "</style>\n",
       "<table border=\"1\" class=\"dataframe\">\n",
       "  <thead>\n",
       "    <tr style=\"text-align: right;\">\n",
       "      <th></th>\n",
       "      <th>Postal code</th>\n",
       "      <th>Borough</th>\n",
       "      <th>Neighborhood</th>\n",
       "    </tr>\n",
       "  </thead>\n",
       "  <tbody>\n",
       "  </tbody>\n",
       "</table>\n",
       "</div>"
      ],
      "text/plain": [
       "Empty DataFrame\n",
       "Columns: [Postal code, Borough, Neighborhood]\n",
       "Index: []"
      ]
     },
     "execution_count": 5,
     "metadata": {},
     "output_type": "execute_result"
    }
   ],
   "source": [
    "df_cleared[df_cleared['Neighborhood' ] == 'Not assigned']"
   ]
  },
  {
   "cell_type": "markdown",
   "metadata": {
    "pycharm": {
     "name": "#%% md\n"
    }
   },
   "source": [
    "### More than one neighborhood can exist in one postal code area.\n",
    "Rows will be combined into one row with the neighborhoods separated with a comma.   \n",
    "\n",
    "Let's check if one or more postal code have more than one neighborhood"
   ]
  },
  {
   "cell_type": "code",
   "execution_count": 6,
   "metadata": {
    "pycharm": {
     "is_executing": false,
     "name": "#%%\n"
    }
   },
   "outputs": [
    {
     "name": "stdout",
     "output_type": "stream",
     "text": [
      "True\n"
     ]
    }
   ],
   "source": [
    "print(len(df_cleared['Postal code']) == len(np.unique(df_cleared['Postal code'])))"
   ]
  },
  {
   "cell_type": "code",
   "execution_count": 7,
   "metadata": {
    "pycharm": {
     "is_executing": false,
     "name": "#%%\n"
    }
   },
   "outputs": [
    {
     "data": {
      "text/plain": [
       "M5T    1\n",
       "M2H    1\n",
       "M1S    1\n",
       "M2R    1\n",
       "M2L    1\n",
       "      ..\n",
       "M5N    1\n",
       "M6S    1\n",
       "M6R    1\n",
       "M7A    1\n",
       "M5J    1\n",
       "Name: Postal code, Length: 103, dtype: int64"
      ]
     },
     "execution_count": 7,
     "metadata": {},
     "output_type": "execute_result"
    }
   ],
   "source": [
    "df_cleared['Postal code'].value_counts()"
   ]
  },
  {
   "cell_type": "code",
   "execution_count": 8,
   "metadata": {
    "pycharm": {
     "is_executing": false,
     "name": "#%%\n"
    }
   },
   "outputs": [
    {
     "data": {
      "text/html": [
       "<div>\n",
       "<style scoped>\n",
       "    .dataframe tbody tr th:only-of-type {\n",
       "        vertical-align: middle;\n",
       "    }\n",
       "\n",
       "    .dataframe tbody tr th {\n",
       "        vertical-align: top;\n",
       "    }\n",
       "\n",
       "    .dataframe thead th {\n",
       "        text-align: right;\n",
       "    }\n",
       "</style>\n",
       "<table border=\"1\" class=\"dataframe\">\n",
       "  <thead>\n",
       "    <tr style=\"text-align: right;\">\n",
       "      <th></th>\n",
       "      <th>Postal code</th>\n",
       "      <th>Borough</th>\n",
       "      <th>Neighborhood</th>\n",
       "    </tr>\n",
       "  </thead>\n",
       "  <tbody>\n",
       "    <tr>\n",
       "      <th>0</th>\n",
       "      <td>M1B</td>\n",
       "      <td>Scarborough</td>\n",
       "      <td>Malvern / Rouge</td>\n",
       "    </tr>\n",
       "    <tr>\n",
       "      <th>1</th>\n",
       "      <td>M1C</td>\n",
       "      <td>Scarborough</td>\n",
       "      <td>Rouge Hill / Port Union / Highland Creek</td>\n",
       "    </tr>\n",
       "    <tr>\n",
       "      <th>2</th>\n",
       "      <td>M1E</td>\n",
       "      <td>Scarborough</td>\n",
       "      <td>Guildwood / Morningside / West Hill</td>\n",
       "    </tr>\n",
       "    <tr>\n",
       "      <th>3</th>\n",
       "      <td>M1G</td>\n",
       "      <td>Scarborough</td>\n",
       "      <td>Woburn</td>\n",
       "    </tr>\n",
       "    <tr>\n",
       "      <th>4</th>\n",
       "      <td>M1H</td>\n",
       "      <td>Scarborough</td>\n",
       "      <td>Cedarbrae</td>\n",
       "    </tr>\n",
       "  </tbody>\n",
       "</table>\n",
       "</div>"
      ],
      "text/plain": [
       "  Postal code      Borough                              Neighborhood\n",
       "0         M1B  Scarborough                           Malvern / Rouge\n",
       "1         M1C  Scarborough  Rouge Hill / Port Union / Highland Creek\n",
       "2         M1E  Scarborough       Guildwood / Morningside / West Hill\n",
       "3         M1G  Scarborough                                    Woburn\n",
       "4         M1H  Scarborough                                 Cedarbrae"
      ]
     },
     "execution_count": 8,
     "metadata": {},
     "output_type": "execute_result"
    }
   ],
   "source": [
    "# Sort by postal code\n",
    "df_cleared.sort_values(by=['Postal code'], inplace=True)\n",
    "df_cleared = df_cleared.reset_index()\n",
    "df_cleared = df_cleared.drop('index', axis=1)\n",
    "df_cleared.head()"
   ]
  },
  {
   "cell_type": "code",
   "execution_count": 9,
   "metadata": {
    "pycharm": {
     "is_executing": false,
     "name": "#%%\n"
    }
   },
   "outputs": [
    {
     "data": {
      "text/plain": [
       "(103, 3)"
      ]
     },
     "execution_count": 9,
     "metadata": {},
     "output_type": "execute_result"
    }
   ],
   "source": [
    "df_cleared.shape"
   ]
  },
  {
   "cell_type": "markdown",
   "metadata": {
    "pycharm": {
     "name": "#%% md\n"
    }
   },
   "source": [
    "<hr>"
   ]
  },
  {
   "cell_type": "markdown",
   "metadata": {},
   "source": [
    "## Part 2\n",
    "### Getting Latitude and Longitude\n",
    "Now that you have built a dataframe of the postal code of each neighborhood along with the borough name and neighborhood name, in order to utilize the Foursquare location data,\n",
    "we need to get the latitude and the longitude coordinates of each neighborhood."
   ]
  },
  {
   "cell_type": "markdown",
   "metadata": {
    "pycharm": {
     "name": "#%% md\n"
    }
   },
   "source": [
    "Let's read the coordinates"
   ]
  },
  {
   "cell_type": "code",
   "execution_count": 10,
   "metadata": {
    "pycharm": {
     "is_executing": false,
     "name": "#%%\n"
    }
   },
   "outputs": [],
   "source": [
    "df_coors = pd.read_csv('Geospatial_Coordinates.csv')"
   ]
  },
  {
   "cell_type": "markdown",
   "metadata": {},
   "source": [
    "Let's sort the dataframe so it match with the main dataframe (df_cleared)"
   ]
  },
  {
   "cell_type": "code",
   "execution_count": 11,
   "metadata": {
    "pycharm": {
     "is_executing": false,
     "name": "#%%\n"
    }
   },
   "outputs": [
    {
     "data": {
      "text/html": [
       "<div>\n",
       "<style scoped>\n",
       "    .dataframe tbody tr th:only-of-type {\n",
       "        vertical-align: middle;\n",
       "    }\n",
       "\n",
       "    .dataframe tbody tr th {\n",
       "        vertical-align: top;\n",
       "    }\n",
       "\n",
       "    .dataframe thead th {\n",
       "        text-align: right;\n",
       "    }\n",
       "</style>\n",
       "<table border=\"1\" class=\"dataframe\">\n",
       "  <thead>\n",
       "    <tr style=\"text-align: right;\">\n",
       "      <th></th>\n",
       "      <th>Postal Code</th>\n",
       "      <th>Latitude</th>\n",
       "      <th>Longitude</th>\n",
       "    </tr>\n",
       "  </thead>\n",
       "  <tbody>\n",
       "    <tr>\n",
       "      <th>0</th>\n",
       "      <td>M1B</td>\n",
       "      <td>43.806686</td>\n",
       "      <td>-79.194353</td>\n",
       "    </tr>\n",
       "    <tr>\n",
       "      <th>1</th>\n",
       "      <td>M1C</td>\n",
       "      <td>43.784535</td>\n",
       "      <td>-79.160497</td>\n",
       "    </tr>\n",
       "    <tr>\n",
       "      <th>2</th>\n",
       "      <td>M1E</td>\n",
       "      <td>43.763573</td>\n",
       "      <td>-79.188711</td>\n",
       "    </tr>\n",
       "    <tr>\n",
       "      <th>3</th>\n",
       "      <td>M1G</td>\n",
       "      <td>43.770992</td>\n",
       "      <td>-79.216917</td>\n",
       "    </tr>\n",
       "    <tr>\n",
       "      <th>4</th>\n",
       "      <td>M1H</td>\n",
       "      <td>43.773136</td>\n",
       "      <td>-79.239476</td>\n",
       "    </tr>\n",
       "  </tbody>\n",
       "</table>\n",
       "</div>"
      ],
      "text/plain": [
       "  Postal Code   Latitude  Longitude\n",
       "0         M1B  43.806686 -79.194353\n",
       "1         M1C  43.784535 -79.160497\n",
       "2         M1E  43.763573 -79.188711\n",
       "3         M1G  43.770992 -79.216917\n",
       "4         M1H  43.773136 -79.239476"
      ]
     },
     "execution_count": 11,
     "metadata": {},
     "output_type": "execute_result"
    }
   ],
   "source": [
    "# Sort by postal code\n",
    "df_coors.sort_values(by=['Postal Code'], inplace=True)\n",
    "df_coors = df_coors.reset_index()\n",
    "df_coors = df_coors.drop('index', axis=1)\n",
    "df_coors.head()"
   ]
  },
  {
   "cell_type": "code",
   "execution_count": 12,
   "metadata": {
    "pycharm": {
     "is_executing": false,
     "name": "#%%\n"
    }
   },
   "outputs": [
    {
     "data": {
      "text/plain": [
       "(103, 3)"
      ]
     },
     "execution_count": 12,
     "metadata": {},
     "output_type": "execute_result"
    }
   ],
   "source": [
    "df_coors.shape"
   ]
  },
  {
   "cell_type": "markdown",
   "metadata": {
    "pycharm": {
     "name": "#%% md\n"
    }
   },
   "source": [
    "Dataframes to be used\n",
    "    1. df_cleared\n",
    "    2. df_coors\n",
    "    \n",
    "Drop the postal code column of the second dataframe"
   ]
  },
  {
   "cell_type": "code",
   "execution_count": 13,
   "metadata": {
    "pycharm": {
     "is_executing": false,
     "name": "#%%\n"
    }
   },
   "outputs": [
    {
     "data": {
      "text/html": [
       "<div>\n",
       "<style scoped>\n",
       "    .dataframe tbody tr th:only-of-type {\n",
       "        vertical-align: middle;\n",
       "    }\n",
       "\n",
       "    .dataframe tbody tr th {\n",
       "        vertical-align: top;\n",
       "    }\n",
       "\n",
       "    .dataframe thead th {\n",
       "        text-align: right;\n",
       "    }\n",
       "</style>\n",
       "<table border=\"1\" class=\"dataframe\">\n",
       "  <thead>\n",
       "    <tr style=\"text-align: right;\">\n",
       "      <th></th>\n",
       "      <th>Latitude</th>\n",
       "      <th>Longitude</th>\n",
       "    </tr>\n",
       "  </thead>\n",
       "  <tbody>\n",
       "    <tr>\n",
       "      <th>0</th>\n",
       "      <td>43.806686</td>\n",
       "      <td>-79.194353</td>\n",
       "    </tr>\n",
       "    <tr>\n",
       "      <th>1</th>\n",
       "      <td>43.784535</td>\n",
       "      <td>-79.160497</td>\n",
       "    </tr>\n",
       "    <tr>\n",
       "      <th>2</th>\n",
       "      <td>43.763573</td>\n",
       "      <td>-79.188711</td>\n",
       "    </tr>\n",
       "    <tr>\n",
       "      <th>3</th>\n",
       "      <td>43.770992</td>\n",
       "      <td>-79.216917</td>\n",
       "    </tr>\n",
       "    <tr>\n",
       "      <th>4</th>\n",
       "      <td>43.773136</td>\n",
       "      <td>-79.239476</td>\n",
       "    </tr>\n",
       "  </tbody>\n",
       "</table>\n",
       "</div>"
      ],
      "text/plain": [
       "    Latitude  Longitude\n",
       "0  43.806686 -79.194353\n",
       "1  43.784535 -79.160497\n",
       "2  43.763573 -79.188711\n",
       "3  43.770992 -79.216917\n",
       "4  43.773136 -79.239476"
      ]
     },
     "execution_count": 13,
     "metadata": {},
     "output_type": "execute_result"
    }
   ],
   "source": [
    "df_lat_lng = df_coors.drop(columns=['Postal Code'], axis=1)\n",
    "df_lat_lng.head()"
   ]
  },
  {
   "cell_type": "code",
   "execution_count": 14,
   "metadata": {
    "pycharm": {
     "is_executing": false,
     "name": "#%%\n"
    }
   },
   "outputs": [
    {
     "data": {
      "text/html": [
       "<div>\n",
       "<style scoped>\n",
       "    .dataframe tbody tr th:only-of-type {\n",
       "        vertical-align: middle;\n",
       "    }\n",
       "\n",
       "    .dataframe tbody tr th {\n",
       "        vertical-align: top;\n",
       "    }\n",
       "\n",
       "    .dataframe thead th {\n",
       "        text-align: right;\n",
       "    }\n",
       "</style>\n",
       "<table border=\"1\" class=\"dataframe\">\n",
       "  <thead>\n",
       "    <tr style=\"text-align: right;\">\n",
       "      <th></th>\n",
       "      <th>Postal code</th>\n",
       "      <th>Borough</th>\n",
       "      <th>Neighborhood</th>\n",
       "      <th>Latitude</th>\n",
       "      <th>Longitude</th>\n",
       "    </tr>\n",
       "  </thead>\n",
       "  <tbody>\n",
       "    <tr>\n",
       "      <th>0</th>\n",
       "      <td>M1B</td>\n",
       "      <td>Scarborough</td>\n",
       "      <td>Malvern / Rouge</td>\n",
       "      <td>43.806686</td>\n",
       "      <td>-79.194353</td>\n",
       "    </tr>\n",
       "    <tr>\n",
       "      <th>1</th>\n",
       "      <td>M1C</td>\n",
       "      <td>Scarborough</td>\n",
       "      <td>Rouge Hill / Port Union / Highland Creek</td>\n",
       "      <td>43.784535</td>\n",
       "      <td>-79.160497</td>\n",
       "    </tr>\n",
       "    <tr>\n",
       "      <th>2</th>\n",
       "      <td>M1E</td>\n",
       "      <td>Scarborough</td>\n",
       "      <td>Guildwood / Morningside / West Hill</td>\n",
       "      <td>43.763573</td>\n",
       "      <td>-79.188711</td>\n",
       "    </tr>\n",
       "    <tr>\n",
       "      <th>3</th>\n",
       "      <td>M1G</td>\n",
       "      <td>Scarborough</td>\n",
       "      <td>Woburn</td>\n",
       "      <td>43.770992</td>\n",
       "      <td>-79.216917</td>\n",
       "    </tr>\n",
       "    <tr>\n",
       "      <th>4</th>\n",
       "      <td>M1H</td>\n",
       "      <td>Scarborough</td>\n",
       "      <td>Cedarbrae</td>\n",
       "      <td>43.773136</td>\n",
       "      <td>-79.239476</td>\n",
       "    </tr>\n",
       "  </tbody>\n",
       "</table>\n",
       "</div>"
      ],
      "text/plain": [
       "  Postal code      Borough                              Neighborhood  \\\n",
       "0         M1B  Scarborough                           Malvern / Rouge   \n",
       "1         M1C  Scarborough  Rouge Hill / Port Union / Highland Creek   \n",
       "2         M1E  Scarborough       Guildwood / Morningside / West Hill   \n",
       "3         M1G  Scarborough                                    Woburn   \n",
       "4         M1H  Scarborough                                 Cedarbrae   \n",
       "\n",
       "    Latitude  Longitude  \n",
       "0  43.806686 -79.194353  \n",
       "1  43.784535 -79.160497  \n",
       "2  43.763573 -79.188711  \n",
       "3  43.770992 -79.216917  \n",
       "4  43.773136 -79.239476  "
      ]
     },
     "execution_count": 14,
     "metadata": {},
     "output_type": "execute_result"
    }
   ],
   "source": [
    "df_canada = pd.concat([df_cleared, df_lat_lng], axis=1 )\n",
    "df_canada.head()"
   ]
  },
  {
   "cell_type": "markdown",
   "metadata": {
    "pycharm": {
     "is_executing": false,
     "name": "#%% md\n"
    }
   },
   "source": [
    "<hr>"
   ]
  },
  {
   "cell_type": "markdown",
   "metadata": {
    "pycharm": {
     "is_executing": false,
     "name": "#%% md\n"
    }
   },
   "source": [
    "## Part 3  \n",
    "### Cluster Neighborhoods\n",
    "Explore and cluster the neighborhoods in Toronto.\n",
    "You can decide to work with only boroughs that contain the word Toronto and then replicate the same analysis we did to the New York City data. It is up to you."
   ]
  },
  {
   "cell_type": "markdown",
   "metadata": {
    "pycharm": {
     "name": "#%% md\n"
    }
   },
   "source": [
    "Set number of clusters"
   ]
  },
  {
   "cell_type": "code",
   "execution_count": 15,
   "metadata": {
    "pycharm": {
     "is_executing": false,
     "name": "#%%\n"
    }
   },
   "outputs": [
    {
     "data": {
      "text/html": [
       "<div>\n",
       "<style scoped>\n",
       "    .dataframe tbody tr th:only-of-type {\n",
       "        vertical-align: middle;\n",
       "    }\n",
       "\n",
       "    .dataframe tbody tr th {\n",
       "        vertical-align: top;\n",
       "    }\n",
       "\n",
       "    .dataframe thead th {\n",
       "        text-align: right;\n",
       "    }\n",
       "</style>\n",
       "<table border=\"1\" class=\"dataframe\">\n",
       "  <thead>\n",
       "    <tr style=\"text-align: right;\">\n",
       "      <th></th>\n",
       "      <th>Postal code</th>\n",
       "      <th>Borough</th>\n",
       "      <th>Neighborhood</th>\n",
       "      <th>Latitude</th>\n",
       "      <th>Longitude</th>\n",
       "    </tr>\n",
       "  </thead>\n",
       "  <tbody>\n",
       "    <tr>\n",
       "      <th>0</th>\n",
       "      <td>M1B</td>\n",
       "      <td>Scarborough</td>\n",
       "      <td>Malvern / Rouge</td>\n",
       "      <td>43.806686</td>\n",
       "      <td>-79.194353</td>\n",
       "    </tr>\n",
       "    <tr>\n",
       "      <th>1</th>\n",
       "      <td>M1C</td>\n",
       "      <td>Scarborough</td>\n",
       "      <td>Rouge Hill / Port Union / Highland Creek</td>\n",
       "      <td>43.784535</td>\n",
       "      <td>-79.160497</td>\n",
       "    </tr>\n",
       "    <tr>\n",
       "      <th>2</th>\n",
       "      <td>M1E</td>\n",
       "      <td>Scarborough</td>\n",
       "      <td>Guildwood / Morningside / West Hill</td>\n",
       "      <td>43.763573</td>\n",
       "      <td>-79.188711</td>\n",
       "    </tr>\n",
       "    <tr>\n",
       "      <th>3</th>\n",
       "      <td>M1G</td>\n",
       "      <td>Scarborough</td>\n",
       "      <td>Woburn</td>\n",
       "      <td>43.770992</td>\n",
       "      <td>-79.216917</td>\n",
       "    </tr>\n",
       "    <tr>\n",
       "      <th>4</th>\n",
       "      <td>M1H</td>\n",
       "      <td>Scarborough</td>\n",
       "      <td>Cedarbrae</td>\n",
       "      <td>43.773136</td>\n",
       "      <td>-79.239476</td>\n",
       "    </tr>\n",
       "  </tbody>\n",
       "</table>\n",
       "</div>"
      ],
      "text/plain": [
       "  Postal code      Borough                              Neighborhood  \\\n",
       "0         M1B  Scarborough                           Malvern / Rouge   \n",
       "1         M1C  Scarborough  Rouge Hill / Port Union / Highland Creek   \n",
       "2         M1E  Scarborough       Guildwood / Morningside / West Hill   \n",
       "3         M1G  Scarborough                                    Woburn   \n",
       "4         M1H  Scarborough                                 Cedarbrae   \n",
       "\n",
       "    Latitude  Longitude  \n",
       "0  43.806686 -79.194353  \n",
       "1  43.784535 -79.160497  \n",
       "2  43.763573 -79.188711  \n",
       "3  43.770992 -79.216917  \n",
       "4  43.773136 -79.239476  "
      ]
     },
     "execution_count": 15,
     "metadata": {},
     "output_type": "execute_result"
    }
   ],
   "source": [
    "df_canada.head()"
   ]
  },
  {
   "cell_type": "markdown",
   "metadata": {
    "pycharm": {
     "name": "#%% md\n"
    }
   },
   "source": [
    "Let's plot the Neighborhoods to explore them"
   ]
  },
  {
   "cell_type": "code",
   "execution_count": 16,
   "metadata": {
    "pycharm": {
     "is_executing": false,
     "name": "#%%\n"
    }
   },
   "outputs": [],
   "source": [
    "lat_canada = 43.7001100\n",
    "lng_canada = -79.4163000"
   ]
  },
  {
   "cell_type": "code",
   "execution_count": 17,
   "metadata": {
    "pycharm": {
     "is_executing": false,
     "name": "#%%\n"
    }
   },
   "outputs": [
    {
     "data": {
      "text/html": [
       "<div style=\"width:100%;\"><div style=\"position:relative;width:100%;height:0;padding-bottom:60%;\"><iframe src=\"about:blank\" style=\"position:absolute;width:100%;height:100%;left:0;top:0;border:none !important;\" data-html=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 onload=\"this.contentDocument.open();this.contentDocument.write(atob(this.getAttribute('data-html')));this.contentDocument.close();\" allowfullscreen webkitallowfullscreen mozallowfullscreen></iframe></div></div>"
      ],
      "text/plain": [
       "<folium.folium.Map at 0x7f11ba519950>"
      ]
     },
     "execution_count": 17,
     "metadata": {},
     "output_type": "execute_result"
    }
   ],
   "source": [
    "map_canada = folium.Map(location=[lat_canada, lng_canada], zoom_start=10)  \n",
    " \n",
    " # add markers to map  \n",
    "for lat, lng, borough, neighborhood in zip(df_canada['Latitude'], df_canada['Longitude'], df_canada['Borough'], df_canada['Neighborhood']):  \n",
    "    label = '{}, {}'.format(neighborhood, borough)  \n",
    "    label = folium.Popup(label, parse_html=True)  \n",
    "    folium.CircleMarker(\n",
    "        [lat, lng],  \n",
    "        radius=5,  \n",
    "        popup=label,  \n",
    "        color='blue',  \n",
    "        fill=True,  \n",
    "        fill_color='#3186cc',  \n",
    "        fill_opacity=0.7,  \n",
    "        parse_html=False).add_to(map_canada)\n",
    "    \n",
    "map_canada"
   ]
  },
  {
   "cell_type": "markdown",
   "metadata": {
    "pycharm": {
     "name": "#%% md\n"
    }
   },
   "source": [
    "Let's assign a color for each borough"
   ]
  },
  {
   "cell_type": "code",
   "execution_count": 18,
   "metadata": {
    "pycharm": {
     "is_executing": false,
     "name": "#%%\n"
    }
   },
   "outputs": [
    {
     "data": {
      "text/plain": [
       "North York          24\n",
       "Downtown Toronto    19\n",
       "Scarborough         17\n",
       "Etobicoke           12\n",
       "Central Toronto      9\n",
       "West Toronto         6\n",
       "East York            5\n",
       "East Toronto         5\n",
       "York                 5\n",
       "Mississauga          1\n",
       "Name: Borough, dtype: int64"
      ]
     },
     "execution_count": 18,
     "metadata": {},
     "output_type": "execute_result"
    }
   ],
   "source": [
    "# How many borough are there\n",
    "df_canada['Borough'].value_counts()"
   ]
  },
  {
   "cell_type": "code",
   "execution_count": 19,
   "metadata": {
    "pycharm": {
     "is_executing": false,
     "name": "#%%\n"
    }
   },
   "outputs": [],
   "source": [
    "# Assign a color\n",
    "borough_colors = {\n",
    "    'North York': '#EA2027',\n",
    "    'Downtown Toronto': '#006266',\n",
    "    'Scarborough': '#1B1464',\n",
    "    'Etobicoke': '#5758BB',\n",
    "    'Central Toronto': '#6F1E51',\n",
    "    'West Toronto': '#EE5A24',\n",
    "    'York': '#009432',\n",
    "    'East York': '#0652DD',\n",
    "    'East Toronto': '#9980FA',\n",
    "    'Mississauga': '#833471',\n",
    "}"
   ]
  },
  {
   "cell_type": "code",
   "execution_count": 20,
   "metadata": {
    "pycharm": {
     "is_executing": false,
     "name": "#%%\n"
    }
   },
   "outputs": [
    {
     "data": {
      "text/html": [
       "<div style=\"width:100%;\"><div style=\"position:relative;width:100%;height:0;padding-bottom:60%;\"><iframe src=\"about:blank\" style=\"position:absolute;width:100%;height:100%;left:0;top:0;border:none !important;\" data-html=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 onload=\"this.contentDocument.open();this.contentDocument.write(atob(this.getAttribute('data-html')));this.contentDocument.close();\" allowfullscreen webkitallowfullscreen mozallowfullscreen></iframe></div></div>"
      ],
      "text/plain": [
       "<folium.folium.Map at 0x7f11b75f8d10>"
      ]
     },
     "execution_count": 20,
     "metadata": {},
     "output_type": "execute_result"
    }
   ],
   "source": [
    "# Plot\n",
    "map_canada = folium.Map(location=[lat_canada, lng_canada], zoom_start=10)  \n",
    " \n",
    " # add markers to map  \n",
    "for lat, lng, borough, neighborhood in zip(df_canada['Latitude'], df_canada['Longitude'], df_canada['Borough'], df_canada['Neighborhood']):  \n",
    "    label = '{}, {}'.format(neighborhood, borough)  \n",
    "    label = folium.Popup(label, parse_html=True)  \n",
    "    folium.CircleMarker(\n",
    "        [lat, lng],  \n",
    "        radius=5,  \n",
    "        popup=label,  \n",
    "        color=borough_colors[borough],  \n",
    "        fill=True,  \n",
    "        fill_color=borough_colors[borough],  \n",
    "        fill_opacity=0.7,  \n",
    "        parse_html=False).add_to(map_canada)\n",
    "    \n",
    "map_canada\n"
   ]
  },
  {
   "cell_type": "markdown",
   "metadata": {
    "pycharm": {
     "name": "#%% md\n"
    }
   },
   "source": [
    "Now let's get venues for each Neighborhood\n"
   ]
  },
  {
   "cell_type": "code",
   "execution_count": 21,
   "metadata": {},
   "outputs": [],
   "source": [
    "# Foursquare config parameters\n",
    "CLIENT_ID = 'WSBDS3PHA2ZA2QRF1K2PFSPE1G2DOMXDFX5LTEJ2NCC5OUG1' # your Foursquare ID\n",
    "CLIENT_SECRET = 'LOHFOAR0DHZK5WYJOU1N0FRMLVYOUKNYK3KBRCTT33YSEQBH' # your Foursquare Secret\n",
    "VERSION = '20200404'\n",
    "LIMIT = 100"
   ]
  },
  {
   "cell_type": "markdown",
   "metadata": {},
   "source": [
    "define URL"
   ]
  },
  {
   "cell_type": "code",
   "execution_count": 22,
   "metadata": {},
   "outputs": [],
   "source": [
    "# define URL with a sample latitude and longitude\n",
    "latitude = df_canada['Latitude'][0]\n",
    "longitude = df_canada['Longitude'][0]\n",
    "\n",
    "url = 'https://api.foursquare.com/v2/venues/search?client_id={}&client_secret={}&ll={},{}&v={}'.format(CLIENT_ID,\n",
    "                                                                                                                 CLIENT_SECRET,\n",
    "                                                                                                                 latitude,\n",
    "                                                                                                                 longitude,\n",
    "                                                                                                                 VERSION)\n"
   ]
  },
  {
   "cell_type": "markdown",
   "metadata": {},
   "source": [
    "### For each neighborhood we are doing the following steps"
   ]
  },
  {
   "cell_type": "markdown",
   "metadata": {},
   "source": [
    "Get venues nearby Neighborhood location"
   ]
  },
  {
   "cell_type": "code",
   "execution_count": 23,
   "metadata": {
    "pycharm": {
     "is_executing": false
    }
   },
   "outputs": [
    {
     "name": "stdout",
     "output_type": "stream",
     "text": [
      "Request sent\n"
     ]
    }
   ],
   "source": [
    "\n",
    "# send GET request and get trending venues\n",
    "venues_json_dirty = requests.get(url).json()\n",
    "print('Request sent')\n"
   ]
  },
  {
   "cell_type": "markdown",
   "metadata": {},
   "source": [
    "Process each venue and find out its category"
   ]
  },
  {
   "cell_type": "code",
   "execution_count": 24,
   "metadata": {},
   "outputs": [],
   "source": [
    "if len(venues_json_dirty['response']['venues']) == 0:\n",
    "    print('No trending venues are available at the moment!')\n",
    "\n",
    "else:\n",
    "    # assign relevant part of JSON to venues\n",
    "    venues_json = venues_json_dirty['response']['venues']\n",
    "    # Getting the name of the primary category\n",
    "    for v in venues_json:\n",
    "        if isinstance(v['categories'], list):\n",
    "            if len( v['categories'] ) > 0:\n",
    "                v['categories'] = v['categories'][0]['name']\n",
    "            else:\n",
    "                v['categories'] = 'Not assigned'\n",
    "    # tranform venues into a dataframe\n",
    "    venues_df_dirty = json_normalize(venues_json)\n",
    "    ## Preprocessing \n",
    "    venues_df = pd.DataFrame({\n",
    "        'category': venues_df_dirty['categories'],\n",
    "        'distance': venues_df_dirty['location.distance']\n",
    "    })\n",
    "    \n"
   ]
  },
  {
   "cell_type": "markdown",
   "metadata": {},
   "source": [
    "Venue categories for the Neighborhood location"
   ]
  },
  {
   "cell_type": "code",
   "execution_count": 25,
   "metadata": {},
   "outputs": [
    {
     "data": {
      "text/plain": [
       "Automotive Shop                  4\n",
       "Not assigned                     3\n",
       "Fast Food Restaurant             2\n",
       "Restaurant                       2\n",
       "Coffee Shop                      2\n",
       "Business Service                 1\n",
       "Trail                            1\n",
       "Filipino Restaurant              1\n",
       "Fried Chicken Joint              1\n",
       "Convenience Store                1\n",
       "Caribbean Restaurant             1\n",
       "Gas Station                      1\n",
       "Print Shop                       1\n",
       "African Restaurant               1\n",
       "Auto Garage                      1\n",
       "Sandwich Place                   1\n",
       "Paper / Office Supplies Store    1\n",
       "Greek Restaurant                 1\n",
       "Construction & Landscaping       1\n",
       "Building                         1\n",
       "Pet Store                        1\n",
       "Shopping Mall                    1\n",
       "Name: category, dtype: int64"
      ]
     },
     "execution_count": 25,
     "metadata": {},
     "output_type": "execute_result"
    }
   ],
   "source": [
    "venues_df['category'].value_counts()"
   ]
  },
  {
   "cell_type": "markdown",
   "metadata": {},
   "source": [
    "One hot encoding for each category"
   ]
  },
  {
   "cell_type": "code",
   "execution_count": 26,
   "metadata": {},
   "outputs": [
    {
     "data": {
      "text/html": [
       "<div>\n",
       "<style scoped>\n",
       "    .dataframe tbody tr th:only-of-type {\n",
       "        vertical-align: middle;\n",
       "    }\n",
       "\n",
       "    .dataframe tbody tr th {\n",
       "        vertical-align: top;\n",
       "    }\n",
       "\n",
       "    .dataframe thead th {\n",
       "        text-align: right;\n",
       "    }\n",
       "</style>\n",
       "<table border=\"1\" class=\"dataframe\">\n",
       "  <thead>\n",
       "    <tr style=\"text-align: right;\">\n",
       "      <th></th>\n",
       "      <th>African Restaurant</th>\n",
       "      <th>Auto Garage</th>\n",
       "      <th>Automotive Shop</th>\n",
       "      <th>Building</th>\n",
       "      <th>Business Service</th>\n",
       "      <th>Caribbean Restaurant</th>\n",
       "      <th>Coffee Shop</th>\n",
       "      <th>Construction &amp; Landscaping</th>\n",
       "      <th>Convenience Store</th>\n",
       "      <th>Fast Food Restaurant</th>\n",
       "      <th>...</th>\n",
       "      <th>Gas Station</th>\n",
       "      <th>Greek Restaurant</th>\n",
       "      <th>Not assigned</th>\n",
       "      <th>Paper / Office Supplies Store</th>\n",
       "      <th>Pet Store</th>\n",
       "      <th>Print Shop</th>\n",
       "      <th>Restaurant</th>\n",
       "      <th>Sandwich Place</th>\n",
       "      <th>Shopping Mall</th>\n",
       "      <th>Trail</th>\n",
       "    </tr>\n",
       "  </thead>\n",
       "  <tbody>\n",
       "    <tr>\n",
       "      <th>0</th>\n",
       "      <td>0</td>\n",
       "      <td>0</td>\n",
       "      <td>0</td>\n",
       "      <td>1</td>\n",
       "      <td>0</td>\n",
       "      <td>0</td>\n",
       "      <td>0</td>\n",
       "      <td>0</td>\n",
       "      <td>0</td>\n",
       "      <td>0</td>\n",
       "      <td>...</td>\n",
       "      <td>0</td>\n",
       "      <td>0</td>\n",
       "      <td>0</td>\n",
       "      <td>0</td>\n",
       "      <td>0</td>\n",
       "      <td>0</td>\n",
       "      <td>0</td>\n",
       "      <td>0</td>\n",
       "      <td>0</td>\n",
       "      <td>0</td>\n",
       "    </tr>\n",
       "    <tr>\n",
       "      <th>1</th>\n",
       "      <td>0</td>\n",
       "      <td>0</td>\n",
       "      <td>0</td>\n",
       "      <td>0</td>\n",
       "      <td>0</td>\n",
       "      <td>0</td>\n",
       "      <td>0</td>\n",
       "      <td>0</td>\n",
       "      <td>0</td>\n",
       "      <td>0</td>\n",
       "      <td>...</td>\n",
       "      <td>0</td>\n",
       "      <td>0</td>\n",
       "      <td>0</td>\n",
       "      <td>0</td>\n",
       "      <td>0</td>\n",
       "      <td>0</td>\n",
       "      <td>0</td>\n",
       "      <td>0</td>\n",
       "      <td>0</td>\n",
       "      <td>1</td>\n",
       "    </tr>\n",
       "    <tr>\n",
       "      <th>2</th>\n",
       "      <td>0</td>\n",
       "      <td>0</td>\n",
       "      <td>0</td>\n",
       "      <td>0</td>\n",
       "      <td>0</td>\n",
       "      <td>0</td>\n",
       "      <td>0</td>\n",
       "      <td>0</td>\n",
       "      <td>0</td>\n",
       "      <td>0</td>\n",
       "      <td>...</td>\n",
       "      <td>1</td>\n",
       "      <td>0</td>\n",
       "      <td>0</td>\n",
       "      <td>0</td>\n",
       "      <td>0</td>\n",
       "      <td>0</td>\n",
       "      <td>0</td>\n",
       "      <td>0</td>\n",
       "      <td>0</td>\n",
       "      <td>0</td>\n",
       "    </tr>\n",
       "    <tr>\n",
       "      <th>3</th>\n",
       "      <td>0</td>\n",
       "      <td>0</td>\n",
       "      <td>0</td>\n",
       "      <td>0</td>\n",
       "      <td>0</td>\n",
       "      <td>0</td>\n",
       "      <td>0</td>\n",
       "      <td>0</td>\n",
       "      <td>0</td>\n",
       "      <td>0</td>\n",
       "      <td>...</td>\n",
       "      <td>0</td>\n",
       "      <td>0</td>\n",
       "      <td>0</td>\n",
       "      <td>0</td>\n",
       "      <td>0</td>\n",
       "      <td>1</td>\n",
       "      <td>0</td>\n",
       "      <td>0</td>\n",
       "      <td>0</td>\n",
       "      <td>0</td>\n",
       "    </tr>\n",
       "    <tr>\n",
       "      <th>4</th>\n",
       "      <td>0</td>\n",
       "      <td>0</td>\n",
       "      <td>0</td>\n",
       "      <td>0</td>\n",
       "      <td>0</td>\n",
       "      <td>0</td>\n",
       "      <td>0</td>\n",
       "      <td>1</td>\n",
       "      <td>0</td>\n",
       "      <td>0</td>\n",
       "      <td>...</td>\n",
       "      <td>0</td>\n",
       "      <td>0</td>\n",
       "      <td>0</td>\n",
       "      <td>0</td>\n",
       "      <td>0</td>\n",
       "      <td>0</td>\n",
       "      <td>0</td>\n",
       "      <td>0</td>\n",
       "      <td>0</td>\n",
       "      <td>0</td>\n",
       "    </tr>\n",
       "  </tbody>\n",
       "</table>\n",
       "<p>5 rows × 22 columns</p>\n",
       "</div>"
      ],
      "text/plain": [
       "   African Restaurant  Auto Garage  Automotive Shop  Building  \\\n",
       "0                   0            0                0         1   \n",
       "1                   0            0                0         0   \n",
       "2                   0            0                0         0   \n",
       "3                   0            0                0         0   \n",
       "4                   0            0                0         0   \n",
       "\n",
       "   Business Service  Caribbean Restaurant  Coffee Shop  \\\n",
       "0                 0                     0            0   \n",
       "1                 0                     0            0   \n",
       "2                 0                     0            0   \n",
       "3                 0                     0            0   \n",
       "4                 0                     0            0   \n",
       "\n",
       "   Construction & Landscaping  Convenience Store  Fast Food Restaurant  ...  \\\n",
       "0                           0                  0                     0  ...   \n",
       "1                           0                  0                     0  ...   \n",
       "2                           0                  0                     0  ...   \n",
       "3                           0                  0                     0  ...   \n",
       "4                           1                  0                     0  ...   \n",
       "\n",
       "   Gas Station  Greek Restaurant  Not assigned  Paper / Office Supplies Store  \\\n",
       "0            0                 0             0                              0   \n",
       "1            0                 0             0                              0   \n",
       "2            1                 0             0                              0   \n",
       "3            0                 0             0                              0   \n",
       "4            0                 0             0                              0   \n",
       "\n",
       "   Pet Store  Print Shop  Restaurant  Sandwich Place  Shopping Mall  Trail  \n",
       "0          0           0           0               0              0      0  \n",
       "1          0           0           0               0              0      1  \n",
       "2          0           0           0               0              0      0  \n",
       "3          0           1           0               0              0      0  \n",
       "4          0           0           0               0              0      0  \n",
       "\n",
       "[5 rows x 22 columns]"
      ]
     },
     "execution_count": 26,
     "metadata": {},
     "output_type": "execute_result"
    }
   ],
   "source": [
    "one_hot_categories_df = pd.get_dummies(venues_df['category'])\n",
    "one_hot_categories_df.head()"
   ]
  },
  {
   "cell_type": "markdown",
   "metadata": {},
   "source": [
    "Get the mean value for each category"
   ]
  },
  {
   "cell_type": "code",
   "execution_count": 27,
   "metadata": {},
   "outputs": [
    {
     "data": {
      "text/plain": [
       "African Restaurant               0.033333\n",
       "Auto Garage                      0.033333\n",
       "Automotive Shop                  0.133333\n",
       "Building                         0.033333\n",
       "Business Service                 0.033333\n",
       "Caribbean Restaurant             0.033333\n",
       "Coffee Shop                      0.066667\n",
       "Construction & Landscaping       0.033333\n",
       "Convenience Store                0.033333\n",
       "Fast Food Restaurant             0.066667\n",
       "Filipino Restaurant              0.033333\n",
       "Fried Chicken Joint              0.033333\n",
       "Gas Station                      0.033333\n",
       "Greek Restaurant                 0.033333\n",
       "Not assigned                     0.100000\n",
       "Paper / Office Supplies Store    0.033333\n",
       "Pet Store                        0.033333\n",
       "Print Shop                       0.033333\n",
       "Restaurant                       0.066667\n",
       "Sandwich Place                   0.033333\n",
       "Shopping Mall                    0.033333\n",
       "Trail                            0.033333\n",
       "dtype: float64"
      ]
     },
     "execution_count": 27,
     "metadata": {},
     "output_type": "execute_result"
    }
   ],
   "source": [
    "one_hot_categories_sers = one_hot_categories_df.mean()\n",
    "one_hot_categories_sers"
   ]
  },
  {
   "cell_type": "markdown",
   "metadata": {},
   "source": [
    "Create the dataframe, each row for each neighborhood"
   ]
  },
  {
   "cell_type": "code",
   "execution_count": 28,
   "metadata": {},
   "outputs": [
    {
     "data": {
      "text/html": [
       "<div>\n",
       "<style scoped>\n",
       "    .dataframe tbody tr th:only-of-type {\n",
       "        vertical-align: middle;\n",
       "    }\n",
       "\n",
       "    .dataframe tbody tr th {\n",
       "        vertical-align: top;\n",
       "    }\n",
       "\n",
       "    .dataframe thead th {\n",
       "        text-align: right;\n",
       "    }\n",
       "</style>\n",
       "<table border=\"1\" class=\"dataframe\">\n",
       "  <thead>\n",
       "    <tr style=\"text-align: right;\">\n",
       "      <th></th>\n",
       "      <th>African Restaurant</th>\n",
       "      <th>Auto Garage</th>\n",
       "      <th>Automotive Shop</th>\n",
       "      <th>Building</th>\n",
       "      <th>Business Service</th>\n",
       "      <th>Caribbean Restaurant</th>\n",
       "      <th>Coffee Shop</th>\n",
       "      <th>Construction &amp; Landscaping</th>\n",
       "      <th>Convenience Store</th>\n",
       "      <th>Fast Food Restaurant</th>\n",
       "      <th>...</th>\n",
       "      <th>Gas Station</th>\n",
       "      <th>Greek Restaurant</th>\n",
       "      <th>Not assigned</th>\n",
       "      <th>Paper / Office Supplies Store</th>\n",
       "      <th>Pet Store</th>\n",
       "      <th>Print Shop</th>\n",
       "      <th>Restaurant</th>\n",
       "      <th>Sandwich Place</th>\n",
       "      <th>Shopping Mall</th>\n",
       "      <th>Trail</th>\n",
       "    </tr>\n",
       "  </thead>\n",
       "  <tbody>\n",
       "    <tr>\n",
       "      <th>0</th>\n",
       "      <td>0.033333</td>\n",
       "      <td>0.033333</td>\n",
       "      <td>0.133333</td>\n",
       "      <td>0.033333</td>\n",
       "      <td>0.033333</td>\n",
       "      <td>0.033333</td>\n",
       "      <td>0.066667</td>\n",
       "      <td>0.033333</td>\n",
       "      <td>0.033333</td>\n",
       "      <td>0.066667</td>\n",
       "      <td>...</td>\n",
       "      <td>0.033333</td>\n",
       "      <td>0.033333</td>\n",
       "      <td>0.1</td>\n",
       "      <td>0.033333</td>\n",
       "      <td>0.033333</td>\n",
       "      <td>0.033333</td>\n",
       "      <td>0.066667</td>\n",
       "      <td>0.033333</td>\n",
       "      <td>0.033333</td>\n",
       "      <td>0.033333</td>\n",
       "    </tr>\n",
       "  </tbody>\n",
       "</table>\n",
       "<p>1 rows × 22 columns</p>\n",
       "</div>"
      ],
      "text/plain": [
       "   African Restaurant  Auto Garage  Automotive Shop  Building  \\\n",
       "0            0.033333     0.033333         0.133333  0.033333   \n",
       "\n",
       "   Business Service  Caribbean Restaurant  Coffee Shop  \\\n",
       "0          0.033333              0.033333     0.066667   \n",
       "\n",
       "   Construction & Landscaping  Convenience Store  Fast Food Restaurant  ...  \\\n",
       "0                    0.033333           0.033333              0.066667  ...   \n",
       "\n",
       "   Gas Station  Greek Restaurant  Not assigned  Paper / Office Supplies Store  \\\n",
       "0     0.033333          0.033333           0.1                       0.033333   \n",
       "\n",
       "   Pet Store  Print Shop  Restaurant  Sandwich Place  Shopping Mall     Trail  \n",
       "0   0.033333    0.033333    0.066667        0.033333       0.033333  0.033333  \n",
       "\n",
       "[1 rows x 22 columns]"
      ]
     },
     "execution_count": 28,
     "metadata": {},
     "output_type": "execute_result"
    }
   ],
   "source": [
    "one_hot_categories_mean_df = pd.DataFrame( [one_hot_categories_sers.values], columns = one_hot_categories_sers.index)\n",
    "\n",
    "one_hot_categories_mean_df.head()"
   ]
  },
  {
   "cell_type": "markdown",
   "metadata": {},
   "source": [
    "Add mean distance"
   ]
  },
  {
   "cell_type": "code",
   "execution_count": 29,
   "metadata": {},
   "outputs": [
    {
     "data": {
      "text/html": [
       "<div>\n",
       "<style scoped>\n",
       "    .dataframe tbody tr th:only-of-type {\n",
       "        vertical-align: middle;\n",
       "    }\n",
       "\n",
       "    .dataframe tbody tr th {\n",
       "        vertical-align: top;\n",
       "    }\n",
       "\n",
       "    .dataframe thead th {\n",
       "        text-align: right;\n",
       "    }\n",
       "</style>\n",
       "<table border=\"1\" class=\"dataframe\">\n",
       "  <thead>\n",
       "    <tr style=\"text-align: right;\">\n",
       "      <th></th>\n",
       "      <th>African Restaurant</th>\n",
       "      <th>Auto Garage</th>\n",
       "      <th>Automotive Shop</th>\n",
       "      <th>Building</th>\n",
       "      <th>Business Service</th>\n",
       "      <th>Caribbean Restaurant</th>\n",
       "      <th>Coffee Shop</th>\n",
       "      <th>Construction &amp; Landscaping</th>\n",
       "      <th>Convenience Store</th>\n",
       "      <th>Fast Food Restaurant</th>\n",
       "      <th>...</th>\n",
       "      <th>Greek Restaurant</th>\n",
       "      <th>Not assigned</th>\n",
       "      <th>Paper / Office Supplies Store</th>\n",
       "      <th>Pet Store</th>\n",
       "      <th>Print Shop</th>\n",
       "      <th>Restaurant</th>\n",
       "      <th>Sandwich Place</th>\n",
       "      <th>Shopping Mall</th>\n",
       "      <th>Trail</th>\n",
       "      <th>distance</th>\n",
       "    </tr>\n",
       "  </thead>\n",
       "  <tbody>\n",
       "    <tr>\n",
       "      <th>0</th>\n",
       "      <td>0.033333</td>\n",
       "      <td>0.033333</td>\n",
       "      <td>0.133333</td>\n",
       "      <td>0.033333</td>\n",
       "      <td>0.033333</td>\n",
       "      <td>0.033333</td>\n",
       "      <td>0.066667</td>\n",
       "      <td>0.033333</td>\n",
       "      <td>0.033333</td>\n",
       "      <td>0.066667</td>\n",
       "      <td>...</td>\n",
       "      <td>0.033333</td>\n",
       "      <td>0.1</td>\n",
       "      <td>0.033333</td>\n",
       "      <td>0.033333</td>\n",
       "      <td>0.033333</td>\n",
       "      <td>0.066667</td>\n",
       "      <td>0.033333</td>\n",
       "      <td>0.033333</td>\n",
       "      <td>0.033333</td>\n",
       "      <td>639.8</td>\n",
       "    </tr>\n",
       "  </tbody>\n",
       "</table>\n",
       "<p>1 rows × 23 columns</p>\n",
       "</div>"
      ],
      "text/plain": [
       "   African Restaurant  Auto Garage  Automotive Shop  Building  \\\n",
       "0            0.033333     0.033333         0.133333  0.033333   \n",
       "\n",
       "   Business Service  Caribbean Restaurant  Coffee Shop  \\\n",
       "0          0.033333              0.033333     0.066667   \n",
       "\n",
       "   Construction & Landscaping  Convenience Store  Fast Food Restaurant  ...  \\\n",
       "0                    0.033333           0.033333              0.066667  ...   \n",
       "\n",
       "   Greek Restaurant  Not assigned  Paper / Office Supplies Store  Pet Store  \\\n",
       "0          0.033333           0.1                       0.033333   0.033333   \n",
       "\n",
       "   Print Shop  Restaurant  Sandwich Place  Shopping Mall     Trail  distance  \n",
       "0    0.033333    0.066667        0.033333       0.033333  0.033333     639.8  \n",
       "\n",
       "[1 rows x 23 columns]"
      ]
     },
     "execution_count": 29,
     "metadata": {},
     "output_type": "execute_result"
    }
   ],
   "source": [
    "one_hot_categories_mean_df['distance'] = venues_df['distance'].mean()\n",
    "one_hot_categories_mean_df.head()"
   ]
  },
  {
   "cell_type": "markdown",
   "metadata": {},
   "source": [
    "### Let's do the above process for all of the neighborhoods "
   ]
  },
  {
   "cell_type": "code",
   "execution_count": 42,
   "metadata": {},
   "outputs": [
    {
     "name": "stdout",
     "output_type": "stream",
     "text": [
      "Processing data ...\n",
      "... Data processed\n"
     ]
    }
   ],
   "source": [
    "# create a dataframe to store the result\n",
    "canada_categories_mean_df = pd.DataFrame()\n",
    "canada_categories_mean_df\n",
    "\n",
    "# for each neighborhood\n",
    "print('Processing data ...')\n",
    "for lat, lng, neighborhood in zip(df_canada['Latitude'], df_canada['Longitude'], df_canada['Neighborhood']):\n",
    "    # Define URL \n",
    "    url = 'https://api.foursquare.com/v2/venues/search?client_id={}&client_secret={}&ll={},{}&v={}'.format(\n",
    "                                                                                                    CLIENT_ID,\n",
    "                                                                                                    CLIENT_SECRET,\n",
    "                                                                                                    lat,\n",
    "                                                                                                    lng,\n",
    "                                                                                                    VERSION)\n",
    "    # Make the request\n",
    "    venues_json_dirty = requests.get(url).json()\n",
    "    venues_json_dirty\n",
    "    # Preprocess the categories for each venue in this neighborhood\n",
    "    if len(venues_json_dirty['response']['venues']) == 0:\n",
    "        print('No venues are available at the moment!')\n",
    "\n",
    "    else:\n",
    "        # assign relevant part of JSON to venues\n",
    "        venues_json = venues_json_dirty['response']['venues']\n",
    "        # Getting the name of the primary category\n",
    "        for v in venues_json:\n",
    "            if isinstance(v['categories'], list):\n",
    "                if len( v['categories'] ) > 0:\n",
    "                    v['categories'] = v['categories'][0]['name']\n",
    "                else:\n",
    "                    v['categories'] = 'Not assigned'\n",
    "        # tranform venues into a dataframe\n",
    "        venues_df_dirty = json_normalize(venues_json)\n",
    "        ## Preprocessing \n",
    "        venues_df = pd.DataFrame({\n",
    "            'category': venues_df_dirty['categories'],\n",
    "            'distance': venues_df_dirty['location.distance']\n",
    "        })\n",
    "        # One-hot encoding\n",
    "        one_hot_categories_df = pd.get_dummies(venues_df['category'])\n",
    "        # Mean value for each category\n",
    "        one_hot_categories_sers = one_hot_categories_df.mean()\n",
    "        one_hot_categories_mean_df = pd.DataFrame( [one_hot_categories_sers.values], columns = one_hot_categories_sers.index)\n",
    "        # Append mean distance\n",
    "        one_hot_categories_mean_df['distance'] = venues_df['distance'].mean()\n",
    "        # one_hot_categories_mean_df['neighborhood'] = neighborhood\n",
    "        canada_categories_mean_df = pd.concat([canada_categories_mean_df, one_hot_categories_mean_df], axis=0, ignore_index=True)\n",
    "\n",
    "    \n",
    "print('... Data processed')\n"
   ]
  },
  {
   "cell_type": "code",
   "execution_count": 43,
   "metadata": {},
   "outputs": [
    {
     "data": {
      "text/html": [
       "<div>\n",
       "<style scoped>\n",
       "    .dataframe tbody tr th:only-of-type {\n",
       "        vertical-align: middle;\n",
       "    }\n",
       "\n",
       "    .dataframe tbody tr th {\n",
       "        vertical-align: top;\n",
       "    }\n",
       "\n",
       "    .dataframe thead th {\n",
       "        text-align: right;\n",
       "    }\n",
       "</style>\n",
       "<table border=\"1\" class=\"dataframe\">\n",
       "  <thead>\n",
       "    <tr style=\"text-align: right;\">\n",
       "      <th></th>\n",
       "      <th>African Restaurant</th>\n",
       "      <th>Auto Garage</th>\n",
       "      <th>Automotive Shop</th>\n",
       "      <th>Building</th>\n",
       "      <th>Business Service</th>\n",
       "      <th>Caribbean Restaurant</th>\n",
       "      <th>Coffee Shop</th>\n",
       "      <th>Construction &amp; Landscaping</th>\n",
       "      <th>Convenience Store</th>\n",
       "      <th>Fast Food Restaurant</th>\n",
       "      <th>...</th>\n",
       "      <th>Burmese Restaurant</th>\n",
       "      <th>Hungarian Restaurant</th>\n",
       "      <th>Shop &amp; Service</th>\n",
       "      <th>State / Provincial Park</th>\n",
       "      <th>River</th>\n",
       "      <th>Poutine Place</th>\n",
       "      <th>Social Club</th>\n",
       "      <th>Drugstore</th>\n",
       "      <th>Kingdom Hall</th>\n",
       "      <th>Swiss Restaurant</th>\n",
       "    </tr>\n",
       "  </thead>\n",
       "  <tbody>\n",
       "    <tr>\n",
       "      <th>0</th>\n",
       "      <td>0.033333</td>\n",
       "      <td>0.033333</td>\n",
       "      <td>0.100000</td>\n",
       "      <td>0.033333</td>\n",
       "      <td>0.033333</td>\n",
       "      <td>0.033333</td>\n",
       "      <td>0.066667</td>\n",
       "      <td>0.033333</td>\n",
       "      <td>0.033333</td>\n",
       "      <td>0.066667</td>\n",
       "      <td>...</td>\n",
       "      <td>NaN</td>\n",
       "      <td>NaN</td>\n",
       "      <td>NaN</td>\n",
       "      <td>NaN</td>\n",
       "      <td>NaN</td>\n",
       "      <td>NaN</td>\n",
       "      <td>NaN</td>\n",
       "      <td>NaN</td>\n",
       "      <td>NaN</td>\n",
       "      <td>NaN</td>\n",
       "    </tr>\n",
       "    <tr>\n",
       "      <th>1</th>\n",
       "      <td>NaN</td>\n",
       "      <td>0.033333</td>\n",
       "      <td>NaN</td>\n",
       "      <td>NaN</td>\n",
       "      <td>NaN</td>\n",
       "      <td>NaN</td>\n",
       "      <td>NaN</td>\n",
       "      <td>NaN</td>\n",
       "      <td>NaN</td>\n",
       "      <td>NaN</td>\n",
       "      <td>...</td>\n",
       "      <td>NaN</td>\n",
       "      <td>NaN</td>\n",
       "      <td>NaN</td>\n",
       "      <td>NaN</td>\n",
       "      <td>NaN</td>\n",
       "      <td>NaN</td>\n",
       "      <td>NaN</td>\n",
       "      <td>NaN</td>\n",
       "      <td>NaN</td>\n",
       "      <td>NaN</td>\n",
       "    </tr>\n",
       "    <tr>\n",
       "      <th>2</th>\n",
       "      <td>NaN</td>\n",
       "      <td>NaN</td>\n",
       "      <td>0.033333</td>\n",
       "      <td>NaN</td>\n",
       "      <td>NaN</td>\n",
       "      <td>NaN</td>\n",
       "      <td>NaN</td>\n",
       "      <td>NaN</td>\n",
       "      <td>NaN</td>\n",
       "      <td>NaN</td>\n",
       "      <td>...</td>\n",
       "      <td>NaN</td>\n",
       "      <td>NaN</td>\n",
       "      <td>NaN</td>\n",
       "      <td>NaN</td>\n",
       "      <td>NaN</td>\n",
       "      <td>NaN</td>\n",
       "      <td>NaN</td>\n",
       "      <td>NaN</td>\n",
       "      <td>NaN</td>\n",
       "      <td>NaN</td>\n",
       "    </tr>\n",
       "    <tr>\n",
       "      <th>3</th>\n",
       "      <td>NaN</td>\n",
       "      <td>NaN</td>\n",
       "      <td>NaN</td>\n",
       "      <td>0.033333</td>\n",
       "      <td>NaN</td>\n",
       "      <td>NaN</td>\n",
       "      <td>0.033333</td>\n",
       "      <td>NaN</td>\n",
       "      <td>0.033333</td>\n",
       "      <td>NaN</td>\n",
       "      <td>...</td>\n",
       "      <td>NaN</td>\n",
       "      <td>NaN</td>\n",
       "      <td>NaN</td>\n",
       "      <td>NaN</td>\n",
       "      <td>NaN</td>\n",
       "      <td>NaN</td>\n",
       "      <td>NaN</td>\n",
       "      <td>NaN</td>\n",
       "      <td>NaN</td>\n",
       "      <td>NaN</td>\n",
       "    </tr>\n",
       "    <tr>\n",
       "      <th>4</th>\n",
       "      <td>NaN</td>\n",
       "      <td>NaN</td>\n",
       "      <td>0.033333</td>\n",
       "      <td>0.066667</td>\n",
       "      <td>NaN</td>\n",
       "      <td>0.033333</td>\n",
       "      <td>NaN</td>\n",
       "      <td>NaN</td>\n",
       "      <td>NaN</td>\n",
       "      <td>NaN</td>\n",
       "      <td>...</td>\n",
       "      <td>NaN</td>\n",
       "      <td>NaN</td>\n",
       "      <td>NaN</td>\n",
       "      <td>NaN</td>\n",
       "      <td>NaN</td>\n",
       "      <td>NaN</td>\n",
       "      <td>NaN</td>\n",
       "      <td>NaN</td>\n",
       "      <td>NaN</td>\n",
       "      <td>NaN</td>\n",
       "    </tr>\n",
       "  </tbody>\n",
       "</table>\n",
       "<p>5 rows × 395 columns</p>\n",
       "</div>"
      ],
      "text/plain": [
       "   African Restaurant  Auto Garage  Automotive Shop  Building  \\\n",
       "0            0.033333     0.033333         0.100000  0.033333   \n",
       "1                 NaN     0.033333              NaN       NaN   \n",
       "2                 NaN          NaN         0.033333       NaN   \n",
       "3                 NaN          NaN              NaN  0.033333   \n",
       "4                 NaN          NaN         0.033333  0.066667   \n",
       "\n",
       "   Business Service  Caribbean Restaurant  Coffee Shop  \\\n",
       "0          0.033333              0.033333     0.066667   \n",
       "1               NaN                   NaN          NaN   \n",
       "2               NaN                   NaN          NaN   \n",
       "3               NaN                   NaN     0.033333   \n",
       "4               NaN              0.033333          NaN   \n",
       "\n",
       "   Construction & Landscaping  Convenience Store  Fast Food Restaurant  ...  \\\n",
       "0                    0.033333           0.033333              0.066667  ...   \n",
       "1                         NaN                NaN                   NaN  ...   \n",
       "2                         NaN                NaN                   NaN  ...   \n",
       "3                         NaN           0.033333                   NaN  ...   \n",
       "4                         NaN                NaN                   NaN  ...   \n",
       "\n",
       "   Burmese Restaurant  Hungarian Restaurant  Shop & Service  \\\n",
       "0                 NaN                   NaN             NaN   \n",
       "1                 NaN                   NaN             NaN   \n",
       "2                 NaN                   NaN             NaN   \n",
       "3                 NaN                   NaN             NaN   \n",
       "4                 NaN                   NaN             NaN   \n",
       "\n",
       "   State / Provincial Park  River  Poutine Place  Social Club  Drugstore  \\\n",
       "0                      NaN    NaN            NaN          NaN        NaN   \n",
       "1                      NaN    NaN            NaN          NaN        NaN   \n",
       "2                      NaN    NaN            NaN          NaN        NaN   \n",
       "3                      NaN    NaN            NaN          NaN        NaN   \n",
       "4                      NaN    NaN            NaN          NaN        NaN   \n",
       "\n",
       "   Kingdom Hall  Swiss Restaurant  \n",
       "0           NaN               NaN  \n",
       "1           NaN               NaN  \n",
       "2           NaN               NaN  \n",
       "3           NaN               NaN  \n",
       "4           NaN               NaN  \n",
       "\n",
       "[5 rows x 395 columns]"
      ]
     },
     "execution_count": 43,
     "metadata": {},
     "output_type": "execute_result"
    }
   ],
   "source": [
    "canada_categories_mean_df.head()"
   ]
  },
  {
   "cell_type": "markdown",
   "metadata": {},
   "source": [
    "Verify that all neighborhoods are in the dataframe"
   ]
  },
  {
   "cell_type": "code",
   "execution_count": 44,
   "metadata": {},
   "outputs": [
    {
     "data": {
      "text/plain": [
       "(103, 395)"
      ]
     },
     "execution_count": 44,
     "metadata": {},
     "output_type": "execute_result"
    }
   ],
   "source": [
    "canada_categories_mean_df.shape"
   ]
  },
  {
   "cell_type": "code",
   "execution_count": 45,
   "metadata": {},
   "outputs": [
    {
     "data": {
      "text/plain": [
       "(103, 5)"
      ]
     },
     "execution_count": 45,
     "metadata": {},
     "output_type": "execute_result"
    }
   ],
   "source": [
    "df_canada.shape"
   ]
  },
  {
   "cell_type": "markdown",
   "metadata": {},
   "source": [
    "Deal with NaN values"
   ]
  },
  {
   "cell_type": "code",
   "execution_count": 46,
   "metadata": {},
   "outputs": [
    {
     "data": {
      "text/html": [
       "<div>\n",
       "<style scoped>\n",
       "    .dataframe tbody tr th:only-of-type {\n",
       "        vertical-align: middle;\n",
       "    }\n",
       "\n",
       "    .dataframe tbody tr th {\n",
       "        vertical-align: top;\n",
       "    }\n",
       "\n",
       "    .dataframe thead th {\n",
       "        text-align: right;\n",
       "    }\n",
       "</style>\n",
       "<table border=\"1\" class=\"dataframe\">\n",
       "  <thead>\n",
       "    <tr style=\"text-align: right;\">\n",
       "      <th></th>\n",
       "      <th>African Restaurant</th>\n",
       "      <th>Auto Garage</th>\n",
       "      <th>Automotive Shop</th>\n",
       "      <th>Building</th>\n",
       "      <th>Business Service</th>\n",
       "      <th>Caribbean Restaurant</th>\n",
       "      <th>Coffee Shop</th>\n",
       "      <th>Construction &amp; Landscaping</th>\n",
       "      <th>Convenience Store</th>\n",
       "      <th>Fast Food Restaurant</th>\n",
       "      <th>...</th>\n",
       "      <th>Burmese Restaurant</th>\n",
       "      <th>Hungarian Restaurant</th>\n",
       "      <th>Shop &amp; Service</th>\n",
       "      <th>State / Provincial Park</th>\n",
       "      <th>River</th>\n",
       "      <th>Poutine Place</th>\n",
       "      <th>Social Club</th>\n",
       "      <th>Drugstore</th>\n",
       "      <th>Kingdom Hall</th>\n",
       "      <th>Swiss Restaurant</th>\n",
       "    </tr>\n",
       "  </thead>\n",
       "  <tbody>\n",
       "    <tr>\n",
       "      <th>0</th>\n",
       "      <td>0.033333</td>\n",
       "      <td>0.033333</td>\n",
       "      <td>0.100000</td>\n",
       "      <td>0.033333</td>\n",
       "      <td>0.033333</td>\n",
       "      <td>0.033333</td>\n",
       "      <td>0.066667</td>\n",
       "      <td>0.033333</td>\n",
       "      <td>0.033333</td>\n",
       "      <td>0.066667</td>\n",
       "      <td>...</td>\n",
       "      <td>0.0</td>\n",
       "      <td>0.0</td>\n",
       "      <td>0.0</td>\n",
       "      <td>0.0</td>\n",
       "      <td>0.0</td>\n",
       "      <td>0.0</td>\n",
       "      <td>0.0</td>\n",
       "      <td>0.0</td>\n",
       "      <td>0.0</td>\n",
       "      <td>0.0</td>\n",
       "    </tr>\n",
       "    <tr>\n",
       "      <th>1</th>\n",
       "      <td>0.000000</td>\n",
       "      <td>0.033333</td>\n",
       "      <td>0.000000</td>\n",
       "      <td>0.000000</td>\n",
       "      <td>0.000000</td>\n",
       "      <td>0.000000</td>\n",
       "      <td>0.000000</td>\n",
       "      <td>0.000000</td>\n",
       "      <td>0.000000</td>\n",
       "      <td>0.000000</td>\n",
       "      <td>...</td>\n",
       "      <td>0.0</td>\n",
       "      <td>0.0</td>\n",
       "      <td>0.0</td>\n",
       "      <td>0.0</td>\n",
       "      <td>0.0</td>\n",
       "      <td>0.0</td>\n",
       "      <td>0.0</td>\n",
       "      <td>0.0</td>\n",
       "      <td>0.0</td>\n",
       "      <td>0.0</td>\n",
       "    </tr>\n",
       "    <tr>\n",
       "      <th>2</th>\n",
       "      <td>0.000000</td>\n",
       "      <td>0.000000</td>\n",
       "      <td>0.033333</td>\n",
       "      <td>0.000000</td>\n",
       "      <td>0.000000</td>\n",
       "      <td>0.000000</td>\n",
       "      <td>0.000000</td>\n",
       "      <td>0.000000</td>\n",
       "      <td>0.000000</td>\n",
       "      <td>0.000000</td>\n",
       "      <td>...</td>\n",
       "      <td>0.0</td>\n",
       "      <td>0.0</td>\n",
       "      <td>0.0</td>\n",
       "      <td>0.0</td>\n",
       "      <td>0.0</td>\n",
       "      <td>0.0</td>\n",
       "      <td>0.0</td>\n",
       "      <td>0.0</td>\n",
       "      <td>0.0</td>\n",
       "      <td>0.0</td>\n",
       "    </tr>\n",
       "    <tr>\n",
       "      <th>3</th>\n",
       "      <td>0.000000</td>\n",
       "      <td>0.000000</td>\n",
       "      <td>0.000000</td>\n",
       "      <td>0.033333</td>\n",
       "      <td>0.000000</td>\n",
       "      <td>0.000000</td>\n",
       "      <td>0.033333</td>\n",
       "      <td>0.000000</td>\n",
       "      <td>0.033333</td>\n",
       "      <td>0.000000</td>\n",
       "      <td>...</td>\n",
       "      <td>0.0</td>\n",
       "      <td>0.0</td>\n",
       "      <td>0.0</td>\n",
       "      <td>0.0</td>\n",
       "      <td>0.0</td>\n",
       "      <td>0.0</td>\n",
       "      <td>0.0</td>\n",
       "      <td>0.0</td>\n",
       "      <td>0.0</td>\n",
       "      <td>0.0</td>\n",
       "    </tr>\n",
       "    <tr>\n",
       "      <th>4</th>\n",
       "      <td>0.000000</td>\n",
       "      <td>0.000000</td>\n",
       "      <td>0.033333</td>\n",
       "      <td>0.066667</td>\n",
       "      <td>0.000000</td>\n",
       "      <td>0.033333</td>\n",
       "      <td>0.000000</td>\n",
       "      <td>0.000000</td>\n",
       "      <td>0.000000</td>\n",
       "      <td>0.000000</td>\n",
       "      <td>...</td>\n",
       "      <td>0.0</td>\n",
       "      <td>0.0</td>\n",
       "      <td>0.0</td>\n",
       "      <td>0.0</td>\n",
       "      <td>0.0</td>\n",
       "      <td>0.0</td>\n",
       "      <td>0.0</td>\n",
       "      <td>0.0</td>\n",
       "      <td>0.0</td>\n",
       "      <td>0.0</td>\n",
       "    </tr>\n",
       "  </tbody>\n",
       "</table>\n",
       "<p>5 rows × 395 columns</p>\n",
       "</div>"
      ],
      "text/plain": [
       "   African Restaurant  Auto Garage  Automotive Shop  Building  \\\n",
       "0            0.033333     0.033333         0.100000  0.033333   \n",
       "1            0.000000     0.033333         0.000000  0.000000   \n",
       "2            0.000000     0.000000         0.033333  0.000000   \n",
       "3            0.000000     0.000000         0.000000  0.033333   \n",
       "4            0.000000     0.000000         0.033333  0.066667   \n",
       "\n",
       "   Business Service  Caribbean Restaurant  Coffee Shop  \\\n",
       "0          0.033333              0.033333     0.066667   \n",
       "1          0.000000              0.000000     0.000000   \n",
       "2          0.000000              0.000000     0.000000   \n",
       "3          0.000000              0.000000     0.033333   \n",
       "4          0.000000              0.033333     0.000000   \n",
       "\n",
       "   Construction & Landscaping  Convenience Store  Fast Food Restaurant  ...  \\\n",
       "0                    0.033333           0.033333              0.066667  ...   \n",
       "1                    0.000000           0.000000              0.000000  ...   \n",
       "2                    0.000000           0.000000              0.000000  ...   \n",
       "3                    0.000000           0.033333              0.000000  ...   \n",
       "4                    0.000000           0.000000              0.000000  ...   \n",
       "\n",
       "   Burmese Restaurant  Hungarian Restaurant  Shop & Service  \\\n",
       "0                 0.0                   0.0             0.0   \n",
       "1                 0.0                   0.0             0.0   \n",
       "2                 0.0                   0.0             0.0   \n",
       "3                 0.0                   0.0             0.0   \n",
       "4                 0.0                   0.0             0.0   \n",
       "\n",
       "   State / Provincial Park  River  Poutine Place  Social Club  Drugstore  \\\n",
       "0                      0.0    0.0            0.0          0.0        0.0   \n",
       "1                      0.0    0.0            0.0          0.0        0.0   \n",
       "2                      0.0    0.0            0.0          0.0        0.0   \n",
       "3                      0.0    0.0            0.0          0.0        0.0   \n",
       "4                      0.0    0.0            0.0          0.0        0.0   \n",
       "\n",
       "   Kingdom Hall  Swiss Restaurant  \n",
       "0           0.0               0.0  \n",
       "1           0.0               0.0  \n",
       "2           0.0               0.0  \n",
       "3           0.0               0.0  \n",
       "4           0.0               0.0  \n",
       "\n",
       "[5 rows x 395 columns]"
      ]
     },
     "execution_count": 46,
     "metadata": {},
     "output_type": "execute_result"
    }
   ],
   "source": [
    "canada_categories_mean_df.replace(np.nan, 0, inplace=True)\n",
    "canada_categories_mean_df.head()"
   ]
  },
  {
   "cell_type": "markdown",
   "metadata": {},
   "source": [
    "Scale because of the distance column"
   ]
  },
  {
   "cell_type": "code",
   "execution_count": 47,
   "metadata": {},
   "outputs": [],
   "source": [
    "# Scaling the features didn't give me a better result\n",
    "# from sklearn.preprocessing import StandardScaler\n",
    "# scaler = StandardScaler()\n",
    "# X = scaler.fit_transform(canada_categories_mean_df.values)\n",
    "# \n",
    "X = canada_categories_mean_df.values"
   ]
  },
  {
   "cell_type": "markdown",
   "metadata": {},
   "source": [
    "Let's cluster neighborhoods"
   ]
  },
  {
   "cell_type": "code",
   "execution_count": 48,
   "metadata": {},
   "outputs": [
    {
     "name": "stdout",
     "output_type": "stream",
     "text": [
      "Labels\n",
      "(103,)\n"
     ]
    },
    {
     "data": {
      "text/plain": [
       "array([0, 2, 3, 2, 3, 0, 2, 0, 2, 0, 3, 0, 0, 3, 0, 1, 4, 0, 1, 0, 2, 0,\n",
       "       3, 0, 0, 0, 3, 1, 1, 0, 0, 0, 2, 0, 3, 3, 3, 0, 1, 1, 0, 3, 3, 3,\n",
       "       2, 1, 0, 1, 0, 1, 0, 1, 1, 3, 1, 1, 1, 1, 1, 1, 1, 1, 1, 2, 0, 1,\n",
       "       1, 1, 3, 1, 1, 1, 3, 0, 0, 3, 1, 1, 1, 2, 1, 0, 3, 3, 3, 1, 3, 3,\n",
       "       3, 3, 0, 0, 3, 2, 2, 3, 0, 2, 0, 0, 0, 1, 2], dtype=int32)"
      ]
     },
     "execution_count": 48,
     "metadata": {},
     "output_type": "execute_result"
    }
   ],
   "source": [
    "# set number of clusters\n",
    "num_clusters = 5\n",
    "\n",
    "k_means = KMeans(init=\"k-means++\", n_clusters=num_clusters, n_init=200)\n",
    "k_means.fit(X)\n",
    "labels = k_means.predict(X)\n",
    "print('Labels')\n",
    "print(labels.shape)\n",
    "labels\n"
   ]
  },
  {
   "cell_type": "markdown",
   "metadata": {},
   "source": [
    "Assign the predicted label to each neighborhood"
   ]
  },
  {
   "cell_type": "code",
   "execution_count": 49,
   "metadata": {},
   "outputs": [
    {
     "data": {
      "text/html": [
       "<div>\n",
       "<style scoped>\n",
       "    .dataframe tbody tr th:only-of-type {\n",
       "        vertical-align: middle;\n",
       "    }\n",
       "\n",
       "    .dataframe tbody tr th {\n",
       "        vertical-align: top;\n",
       "    }\n",
       "\n",
       "    .dataframe thead th {\n",
       "        text-align: right;\n",
       "    }\n",
       "</style>\n",
       "<table border=\"1\" class=\"dataframe\">\n",
       "  <thead>\n",
       "    <tr style=\"text-align: right;\">\n",
       "      <th></th>\n",
       "      <th>Postal code</th>\n",
       "      <th>Borough</th>\n",
       "      <th>Neighborhood</th>\n",
       "      <th>Latitude</th>\n",
       "      <th>Longitude</th>\n",
       "      <th>Label</th>\n",
       "    </tr>\n",
       "  </thead>\n",
       "  <tbody>\n",
       "    <tr>\n",
       "      <th>0</th>\n",
       "      <td>M1B</td>\n",
       "      <td>Scarborough</td>\n",
       "      <td>Malvern / Rouge</td>\n",
       "      <td>43.806686</td>\n",
       "      <td>-79.194353</td>\n",
       "      <td>0</td>\n",
       "    </tr>\n",
       "    <tr>\n",
       "      <th>1</th>\n",
       "      <td>M1C</td>\n",
       "      <td>Scarborough</td>\n",
       "      <td>Rouge Hill / Port Union / Highland Creek</td>\n",
       "      <td>43.784535</td>\n",
       "      <td>-79.160497</td>\n",
       "      <td>2</td>\n",
       "    </tr>\n",
       "    <tr>\n",
       "      <th>2</th>\n",
       "      <td>M1E</td>\n",
       "      <td>Scarborough</td>\n",
       "      <td>Guildwood / Morningside / West Hill</td>\n",
       "      <td>43.763573</td>\n",
       "      <td>-79.188711</td>\n",
       "      <td>3</td>\n",
       "    </tr>\n",
       "    <tr>\n",
       "      <th>3</th>\n",
       "      <td>M1G</td>\n",
       "      <td>Scarborough</td>\n",
       "      <td>Woburn</td>\n",
       "      <td>43.770992</td>\n",
       "      <td>-79.216917</td>\n",
       "      <td>2</td>\n",
       "    </tr>\n",
       "    <tr>\n",
       "      <th>4</th>\n",
       "      <td>M1H</td>\n",
       "      <td>Scarborough</td>\n",
       "      <td>Cedarbrae</td>\n",
       "      <td>43.773136</td>\n",
       "      <td>-79.239476</td>\n",
       "      <td>3</td>\n",
       "    </tr>\n",
       "  </tbody>\n",
       "</table>\n",
       "</div>"
      ],
      "text/plain": [
       "  Postal code      Borough                              Neighborhood  \\\n",
       "0         M1B  Scarborough                           Malvern / Rouge   \n",
       "1         M1C  Scarborough  Rouge Hill / Port Union / Highland Creek   \n",
       "2         M1E  Scarborough       Guildwood / Morningside / West Hill   \n",
       "3         M1G  Scarborough                                    Woburn   \n",
       "4         M1H  Scarborough                                 Cedarbrae   \n",
       "\n",
       "    Latitude  Longitude  Label  \n",
       "0  43.806686 -79.194353      0  \n",
       "1  43.784535 -79.160497      2  \n",
       "2  43.763573 -79.188711      3  \n",
       "3  43.770992 -79.216917      2  \n",
       "4  43.773136 -79.239476      3  "
      ]
     },
     "execution_count": 49,
     "metadata": {},
     "output_type": "execute_result"
    }
   ],
   "source": [
    "canada_labeled_df = pd.DataFrame(df_canada)\n",
    "canada_labeled_df['Label'] = labels\n",
    "canada_labeled_df.head()"
   ]
  },
  {
   "cell_type": "markdown",
   "metadata": {},
   "source": [
    "Visualize the result"
   ]
  },
  {
   "cell_type": "code",
   "execution_count": 50,
   "metadata": {},
   "outputs": [],
   "source": [
    "# Assign a color to labels\n",
    "label_colors = {\n",
    "    9: '#EA2027',\n",
    "    8: '#006266',\n",
    "    7: '#1B1464',\n",
    "    6: '#5758BB',\n",
    "    5: '#6F1E51',\n",
    "    4: '#EE5A24',\n",
    "    3: '#009432',\n",
    "    2: '#0652DD',\n",
    "    1: '#9980FA',\n",
    "    0: '#833471',\n",
    "}"
   ]
  },
  {
   "cell_type": "code",
   "execution_count": 51,
   "metadata": {},
   "outputs": [
    {
     "data": {
      "text/html": [
       "<div style=\"width:100%;\"><div style=\"position:relative;width:100%;height:0;padding-bottom:60%;\"><iframe src=\"about:blank\" style=\"position:absolute;width:100%;height:100%;left:0;top:0;border:none !important;\" data-html=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 onload=\"this.contentDocument.open();this.contentDocument.write(atob(this.getAttribute('data-html')));this.contentDocument.close();\" allowfullscreen webkitallowfullscreen mozallowfullscreen></iframe></div></div>"
      ],
      "text/plain": [
       "<folium.folium.Map at 0x7f11b5bb3a90>"
      ]
     },
     "execution_count": 51,
     "metadata": {},
     "output_type": "execute_result"
    }
   ],
   "source": [
    "# Plot\n",
    "map_canada = folium.Map(location=[lat_canada, lng_canada], zoom_start=10)  \n",
    " \n",
    " # add markers to map  \n",
    "for lat, lng, borough, neighborhood, cluster_label in zip(canada_labeled_df['Latitude'], canada_labeled_df['Longitude'], canada_labeled_df['Borough'], canada_labeled_df['Neighborhood'], canada_labeled_df['Label']):  \n",
    "    label = '{}, {}'.format(neighborhood, borough)  \n",
    "    label = folium.Popup(label, parse_html=True)\n",
    "    folium.CircleMarker(\n",
    "        [lat, lng],  \n",
    "        radius=5,  \n",
    "        popup=label,  \n",
    "        color=label_colors[cluster_label],  \n",
    "        fill=True,  \n",
    "        fill_color=label_colors[cluster_label],  \n",
    "        fill_opacity=0.7,  \n",
    "        parse_html=False).add_to(map_canada)\n",
    "    \n",
    "map_canada\n"
   ]
  },
  {
   "cell_type": "markdown",
   "metadata": {},
   "source": [
    "### The End"
   ]
  },
  {
   "cell_type": "code",
   "execution_count": null,
   "metadata": {},
   "outputs": [],
   "source": []
  }
 ],
 "metadata": {
  "kernelspec": {
   "display_name": "Python 3",
   "language": "python",
   "name": "python3"
  },
  "language_info": {
   "codemirror_mode": {
    "name": "ipython",
    "version": 3
   },
   "file_extension": ".py",
   "mimetype": "text/x-python",
   "name": "python",
   "nbconvert_exporter": "python",
   "pygments_lexer": "ipython3",
   "version": "3.7.7"
  },
  "pycharm": {
   "stem_cell": {
    "cell_type": "raw",
    "metadata": {
     "collapsed": false
    },
    "source": []
   }
  }
 },
 "nbformat": 4,
 "nbformat_minor": 1
}
